{
 "cells": [
  {
   "cell_type": "code",
   "execution_count": null,
   "id": "b1d45b7b",
   "metadata": {},
   "outputs": [],
   "source": [
    "import pandas as pd\n",
    "import numpy as np\n",
    "\n",
    "folder = './smiles_to_be_filtered/'\n",
    "file_14cd = '1.4cd.txt'\n",
    "file_14ds = '1.4ds.txt'\n",
    "file_14ma = '1.4maetro.txt'\n",
    "file_17cd = '1.7cd.txt'\n",
    "file_17ds = '1.7ds.txt'\n",
    "file_17ma = '1.7maetro.txt'\n"
   ]
  },
  {
   "cell_type": "code",
   "execution_count": null,
   "id": "fa001fe6",
   "metadata": {},
   "outputs": [],
   "source": [
    "# 1.4cd: Rank,Name,Cdocker-Scores,SA,SOM,Smiles\n",
    "# 1.4ds: Name,SA,SOM,LibDockScore,Smiles\n",
    "# 1.4ma: Rank,Name,Glide,Smiles,SOM,SA\n",
    "# 1.7cd: Rank,Name,Cdocker-Scores,SA,SOM,Smiles\n",
    "# 1.7ds: Rank,Name,SA,SOM,LibDockScore,Smiles\n",
    "# 1.7ma: Rank,Name,Glide,Smiles,SOM,SA\n",
    "\n",
    "\n",
    "sm1_4cd = pd.read_csv(folder+file_14cd,header=None,sep=',',names=[\"Rank\",\"Name\",\"Cdocker-Scores\",\"SA\",\"SOM\",\"Smiles\"])\n",
    "sm1_4ds = pd.read_csv(folder+file_14ds,header=None,sep=',',names=[\"Name\",\"SA\",\"SOM\",\"LibDockScore\",\"Smiles\"])\n",
    "sm1_4ds[\"Rank\"]=list(range(1, len(sm1_4ds)+1))\n",
    "sm1_4ma = pd.read_csv(folder+file_14ma,header=None,sep=',',names=[\"Rank\",\"Name\",\"Glide\",\"Smiles\",\"SOM\",\"SA\"])\n",
    "sm1_7cd = pd.read_csv(folder+file_17cd,header=None,sep=',',names=[\"Rank\",\"Name\",\"Cdocker-Scores\",\"SA\",\"SOM\",\"Smiles\"])\n",
    "sm1_7ds = pd.read_csv(folder+file_17ds,header=None,sep=',',names=[\"Rank\",\"Name\",\"SA\",\"SOM\",\"LibDockScore\",\"Smiles\"])\n",
    "sm1_7ma = pd.read_csv(folder+file_17ma,header=None,sep=',',names=[\"Rank\",\"Name\",\"Glide\",\"Smiles\",\"SOM\",\"SA\"])"
   ]
  },
  {
   "cell_type": "code",
   "execution_count": null,
   "id": "777f4aca",
   "metadata": {},
   "outputs": [],
   "source": [
    "sm14cd_set = sm1_4cd[\"Smiles\"]\n",
    "sm14ds_set = sm1_4ds[\"Smiles\"]\n",
    "sm14ma_set = sm1_4ma[\"Smiles\"]\n",
    "sm17cd_set = sm1_7cd[\"Smiles\"]\n",
    "sm17ds_set = sm1_7ds[\"Smiles\"]\n",
    "sm17ma_set = sm1_7ma[\"Smiles\"]\n",
    "\n",
    "L = [sm14cd_set, sm14ds_set, sm14ma_set, sm17cd_set, sm17ds_set, sm17ma_set]\n",
    "L14 = [sm14cd_set, sm14ds_set, sm14ma_set]\n",
    "L17 = [sm17cd_set, sm17ds_set, sm17ma_set]"
   ]
  },
  {
   "cell_type": "code",
   "execution_count": null,
   "id": "c8878b72",
   "metadata": {},
   "outputs": [],
   "source": [
    "common_smiles_in_L = set(L[0]).intersection(*L[1:])\n",
    "common_smiles_in_L14 = set(L14[0]).intersection(*L14[1:])\n",
    "common_smiles_in_L17 = set(L17[0]).intersection(*L17[1:])"
   ]
  },
  {
   "cell_type": "code",
   "execution_count": null,
   "id": "e5c29313",
   "metadata": {},
   "outputs": [],
   "source": [
    "common_smiles_in_L14"
   ]
  },
  {
   "cell_type": "code",
   "execution_count": null,
   "id": "69fc8535",
   "metadata": {},
   "outputs": [],
   "source": [
    "common_smiles_in_L17"
   ]
  },
  {
   "cell_type": "code",
   "execution_count": null,
   "id": "303a7e77",
   "metadata": {},
   "outputs": [],
   "source": []
  }
 ],
 "metadata": {
  "kernelspec": {
   "display_name": "Python 3 (ipykernel)",
   "language": "python",
   "name": "python3"
  },
  "language_info": {
   "codemirror_mode": {
    "name": "ipython",
    "version": 3
   },
   "file_extension": ".py",
   "mimetype": "text/x-python",
   "name": "python",
   "nbconvert_exporter": "python",
   "pygments_lexer": "ipython3",
   "version": "3.9.17"
  }
 },
 "nbformat": 4,
 "nbformat_minor": 5
}
