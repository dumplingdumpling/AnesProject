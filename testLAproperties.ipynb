{
 "cells": [
  {
   "cell_type": "code",
   "execution_count": 24,
   "id": "13fbf531",
   "metadata": {},
   "outputs": [],
   "source": [
    "from rdkit import Chem\n",
    "from rdkit.Chem import Draw\n",
    "from rdkit.Chem import AllChem\n",
    "from rdkit.Chem import MACCSkeys\n",
    "from rdkit.Chem.Descriptors import ExactMolWt\n",
    "import random\n",
    "import numpy as np\n",
    "import matplotlib.pyplot as plt\n",
    "import matplotlib\n",
    "from moses.metrics import mol_passes_filters, QED, SA, logP\n",
    "from moses.metrics.utils import get_n_rings, get_mol\n",
    "\n",
    "\n",
    "from utilities.config import Config\n",
    "\n",
    "config = Config()"
   ]
  },
  {
   "cell_type": "code",
   "execution_count": 25,
   "id": "e042546b",
   "metadata": {},
   "outputs": [],
   "source": [
    "# read the molecules from LA and zinc files, c\n",
    "\n",
    "# 读取LA的smiles分子式\n",
    "LA_list = []\n",
    "with open(config.LA_smiles_file, 'r', encoding='utf-8') as f:\n",
    "    for line in f:\n",
    "        LA_list.append(line.strip())\n",
    "\n",
    "# 读取zinc的smiles分子式\n",
    "zinc_list = []\n",
    "with open(config.zinc_file, 'r', encoding='utf-8') as f:\n",
    "    for line in f:\n",
    "        zinc_list.append(line.strip().split(',')[0])\n",
    "        \n",
    "zinc_sampled_list = random.sample(zinc_list, 10*len(LA_list))\n"
   ]
  },
  {
   "cell_type": "code",
   "execution_count": 26,
   "id": "58079f68",
   "metadata": {},
   "outputs": [],
   "source": [
    "def get_num_rings_6(mol):\n",
    "    r = mol.GetRingInfo()\n",
    "    return len([x for x in r.AtomRings() if len(x) > 6])\n",
    "\n",
    "def penalized_logP(mol_or_smiles, masked=False, default=-5):\n",
    "    mol = get_mol(mol_or_smiles)\n",
    "    if mol is None:\n",
    "        return default\n",
    "    reward = logP(mol) - SA(mol) - get_num_rings_6(mol)\n",
    "    if masked and not mol_passes_filters(mol):\n",
    "        return default\n",
    "    return reward"
   ]
  },
  {
   "cell_type": "code",
   "execution_count": 27,
   "id": "ffa6850b",
   "metadata": {},
   "outputs": [
    {
     "name": "stderr",
     "output_type": "stream",
     "text": [
      "RDKit WARNING: [21:47:04] WARNING: not removing hydrogen atom without neighbors\n",
      "RDKit WARNING: [21:47:04] WARNING: not removing hydrogen atom without neighbors\n",
      "RDKit WARNING: [21:47:04] WARNING: not removing hydrogen atom without neighbors\n"
     ]
    }
   ],
   "source": [
    "LA_logP_list = []\n",
    "LA_SA_list = []\n",
    "LA_rings6_list = []\n",
    "LA_penalized_logP = []\n",
    "\n",
    "zinc_logP_list = []\n",
    "zinc_SA_list = []\n",
    "zinc_rings6_list = []\n",
    "zinc_penalized_logP = []\n",
    "\n",
    "\n",
    "for sm in LA_list:\n",
    "    mol = get_mol(sm)\n",
    "    if mol is not None:\n",
    "        LA_logP_list.append(logP(mol))\n",
    "        LA_SA_list.append(SA(mol))\n",
    "        LA_rings6_list.append(get_num_rings_6(mol))\n",
    "        LA_penalized_logP.append(logP(mol) - SA(mol) - get_num_rings_6(mol))\n",
    "        \n",
    "        \n",
    "for sm in zinc_sampled_list:\n",
    "    mol = get_mol(sm)\n",
    "    if mol is not None:\n",
    "        zinc_logP_list.append(logP(mol))\n",
    "        zinc_SA_list.append(SA(mol))\n",
    "        zinc_rings6_list.append(get_num_rings_6(mol))\n",
    "        zinc_penalized_logP.append(logP(mol) - SA(mol) - get_num_rings_6(mol))"
   ]
  },
  {
   "cell_type": "code",
   "execution_count": 28,
   "id": "8d2eec7a",
   "metadata": {},
   "outputs": [
    {
     "data": {
      "text/plain": [
       "(array([ 15.,  53., 116., 173.,  70.,  24.,   3.,   3.,   4.,   1.]),\n",
       " array([ 0.0721,  1.1217,  2.1713,  3.2209,  4.2705,  5.3201,  6.3697,\n",
       "         7.4193,  8.4689,  9.5185, 10.5681]),\n",
       " <BarContainer object of 10 artists>)"
      ]
     },
     "execution_count": 28,
     "metadata": {},
     "output_type": "execute_result"
    },
    {
     "data": {
      "image/png": "[encoded data removed]",
      "text/plain": [
       "<Figure size 432x288 with 1 Axes>"
      ]
     },
     "metadata": {
      "needs_background": "light"
     },
     "output_type": "display_data"
    }
   ],
   "source": [
    "plt.hist(LA_logP_list)"
   ]
  },
  {
   "cell_type": "code",
   "execution_count": 29,
   "id": "a21d7099",
   "metadata": {},
   "outputs": [
    {
     "data": {
      "text/plain": [
       "(array([   7.,   37.,  109.,  282.,  615.,  994., 1322.,  987.,  244.,\n",
       "          23.]),\n",
       " array([-1.46832 , -0.821462, -0.174604,  0.472254,  1.119112,  1.76597 ,\n",
       "         2.412828,  3.059686,  3.706544,  4.353402,  5.00026 ]),\n",
       " <BarContainer object of 10 artists>)"
      ]
     },
     "execution_count": 29,
     "metadata": {},
     "output_type": "execute_result"
    },
    {
     "data": {
      "image/png": "[encoded data removed]",
      "text/plain": [
       "<Figure size 432x288 with 1 Axes>"
      ]
     },
     "metadata": {
      "needs_background": "light"
     },
     "output_type": "display_data"
    }
   ],
   "source": [
    "plt.hist(zinc_logP_list)"
   ]
  },
  {
   "cell_type": "code",
   "execution_count": 30,
   "id": "477922c1",
   "metadata": {},
   "outputs": [
    {
     "data": {
      "text/plain": [
       "(array([ 32., 100., 227.,  47.,  13.,  19.,  10.,   5.,   7.,   2.]),\n",
       " array([1.29183732, 1.82953769, 2.36723805, 2.90493842, 3.44263878,\n",
       "        3.98033915, 4.51803951, 5.05573988, 5.59344025, 6.13114061,\n",
       "        6.66884098]),\n",
       " <BarContainer object of 10 artists>)"
      ]
     },
     "execution_count": 30,
     "metadata": {},
     "output_type": "execute_result"
    },
    {
     "data": {
      "image/png": "[encoded data removed]",
      "text/plain": [
       "<Figure size 432x288 with 1 Axes>"
      ]
     },
     "metadata": {
      "needs_background": "light"
     },
     "output_type": "display_data"
    }
   ],
   "source": [
    "plt.hist(LA_SA_list)"
   ]
  },
  {
   "cell_type": "code",
   "execution_count": 31,
   "id": "d88b1633",
   "metadata": {},
   "outputs": [
    {
     "data": {
      "text/plain": [
       "(array([3.32e+02, 1.44e+03, 1.51e+03, 8.52e+02, 3.34e+02, 9.40e+01,\n",
       "        3.70e+01, 1.80e+01, 1.00e+00, 2.00e+00]),\n",
       " array([1.50397687, 1.88102094, 2.25806502, 2.63510909, 3.01215316,\n",
       "        3.38919724, 3.76624131, 4.14328539, 4.52032946, 4.89737354,\n",
       "        5.27441761]),\n",
       " <BarContainer object of 10 artists>)"
      ]
     },
     "execution_count": 31,
     "metadata": {},
     "output_type": "execute_result"
    },
    {
     "data": {
      "image/png": "[encoded data removed]",
      "text/plain": [
       "<Figure size 432x288 with 1 Axes>"
      ]
     },
     "metadata": {
      "needs_background": "light"
     },
     "output_type": "display_data"
    }
   ],
   "source": [
    "plt.hist(zinc_SA_list)"
   ]
  },
  {
   "cell_type": "code",
   "execution_count": 32,
   "id": "51dedb14",
   "metadata": {},
   "outputs": [
    {
     "data": {
      "text/plain": [
       "(array([424.,   0.,   0.,   0.,   0.,   0.,   0.,   0.,   0.,  38.]),\n",
       " array([0. , 0.1, 0.2, 0.3, 0.4, 0.5, 0.6, 0.7, 0.8, 0.9, 1. ]),\n",
       " <BarContainer object of 10 artists>)"
      ]
     },
     "execution_count": 32,
     "metadata": {},
     "output_type": "execute_result"
    },
    {
     "data": {
      "image/png": "[encoded data removed]",
      "text/plain": [
       "<Figure size 432x288 with 1 Axes>"
      ]
     },
     "metadata": {
      "needs_background": "light"
     },
     "output_type": "display_data"
    }
   ],
   "source": [
    "plt.hist(LA_rings6_list)"
   ]
  },
  {
   "cell_type": "code",
   "execution_count": 33,
   "id": "43421f82",
   "metadata": {},
   "outputs": [
    {
     "data": {
      "text/plain": [
       "(array([4.508e+03, 0.000e+00, 0.000e+00, 0.000e+00, 0.000e+00, 1.090e+02,\n",
       "        0.000e+00, 0.000e+00, 0.000e+00, 3.000e+00]),\n",
       " array([0. , 0.2, 0.4, 0.6, 0.8, 1. , 1.2, 1.4, 1.6, 1.8, 2. ]),\n",
       " <BarContainer object of 10 artists>)"
      ]
     },
     "execution_count": 33,
     "metadata": {},
     "output_type": "execute_result"
    },
    {
     "data": {
      "image/png": "[encoded data removed]",
      "text/plain": [
       "<Figure size 432x288 with 1 Axes>"
      ]
     },
     "metadata": {
      "needs_background": "light"
     },
     "output_type": "display_data"
    }
   ],
   "source": [
    "plt.hist(zinc_rings6_list)"
   ]
  },
  {
   "cell_type": "code",
   "execution_count": 34,
   "id": "064bf202",
   "metadata": {},
   "outputs": [
    {
     "data": {
      "text/plain": [
       "(array([  7.,   6.,  16.,  44.,  89., 154., 108.,  31.,   2.,   5.]),\n",
       " array([-4.37273011, -3.41969556, -2.46666101, -1.51362646, -0.5605919 ,\n",
       "         0.39244265,  1.3454772 ,  2.29851175,  3.2515463 ,  4.20458085,\n",
       "         5.1576154 ]),\n",
       " <BarContainer object of 10 artists>)"
      ]
     },
     "execution_count": 34,
     "metadata": {},
     "output_type": "execute_result"
    },
    {
     "data": {
      "image/png": "[encoded data removed]",
      "text/plain": [
       "<Figure size 432x288 with 1 Axes>"
      ]
     },
     "metadata": {
      "needs_background": "light"
     },
     "output_type": "display_data"
    }
   ],
   "source": [
    "plt.hist(LA_penalized_logP)"
   ]
  },
  {
   "cell_type": "code",
   "execution_count": 35,
   "id": "b7652d4a",
   "metadata": {},
   "outputs": [
    {
     "data": {
      "text/plain": [
       "(array([   3.,   14.,   36.,  146.,  372.,  807., 1234., 1292.,  638.,\n",
       "          78.]),\n",
       " array([-5.42008443, -4.60769428, -3.79530413, -2.98291398, -2.17052383,\n",
       "        -1.35813368, -0.54574353,  0.26664662,  1.07903677,  1.89142691,\n",
       "         2.70381706]),\n",
       " <BarContainer object of 10 artists>)"
      ]
     },
     "execution_count": 35,
     "metadata": {},
     "output_type": "execute_result"
    },
    {
     "data": {
      "image/png": "[encoded data removed]",
      "text/plain": [
       "<Figure size 432x288 with 1 Axes>"
      ]
     },
     "metadata": {
      "needs_background": "light"
     },
     "output_type": "display_data"
    }
   ],
   "source": [
    "plt.hist(zinc_penalized_logP)"
   ]
  },
  {
   "cell_type": "code",
   "execution_count": null,
   "id": "695ae8b9",
   "metadata": {},
   "outputs": [],
   "source": []
  }
 ],
 "metadata": {
  "kernelspec": {
   "display_name": "Python 3",
   "language": "python",
   "name": "python3"
  },
  "language_info": {
   "codemirror_mode": {
    "name": "ipython",
    "version": 3
   },
   "file_extension": ".py",
   "mimetype": "text/x-python",
   "name": "python",
   "nbconvert_exporter": "python",
   "pygments_lexer": "ipython3",
   "version": "3.9.2"
  }
 },
 "nbformat": 4,
 "nbformat_minor": 5
}
