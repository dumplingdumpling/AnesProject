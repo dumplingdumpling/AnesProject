{
 "cells": [
  {
   "cell_type": "markdown",
   "id": "7db98dc6",
   "metadata": {},
   "source": [
    "### FpsSOM Version"
   ]
  },
  {
   "cell_type": "code",
   "execution_count": null,
   "id": "6a09abb1",
   "metadata": {
    "scrolled": true
   },
   "outputs": [],
   "source": [
    "# Need to obtain a dataset of mixed zinc and candidate molecules\n",
    "from gentrl.som import FpsSOM\n",
    "from utilities.candiconfig import CandiConfig\n",
    "import pickle\n",
    "\n",
    "config = CandiConfig(smiles_format=2, topn_fp_features=5, mode='threshold', max_fp_features=2048, threshold=0.3, morgan_radius=2)\n",
    "fps_som = FpsSOM(config=config, size=10)# 10 is calculated by sqrt(5*sqrt(N))\n",
    "fps_som.train_som()\n",
    "\n",
    "with open(config.FpsSOM_model, 'wb') as outfile:\n",
    "    pickle.dump(fps_som, outfile)"
   ]
  },
  {
   "cell_type": "code",
   "execution_count": null,
   "id": "cfb2c6af",
   "metadata": {},
   "outputs": [],
   "source": [
    "\"CC(CCCOn1-n1cccc1N)Nc1ccc(Cl)cc1\" in fps_som.smiles_set"
   ]
  },
  {
   "cell_type": "markdown",
   "id": "6f9fb867",
   "metadata": {},
   "source": [
    "### Original Version"
   ]
  },
  {
   "cell_type": "code",
   "execution_count": null,
   "id": "bc3c141d",
   "metadata": {},
   "outputs": [],
   "source": [
    "from rdkit import Chem\n",
    "from rdkit.Chem import Draw, AllChem, MACCSkeys, RDKFingerprint\n",
    "from rdkit.Avalon import pyAvalonTools\n",
    "from rdkit import DataStructs\n",
    "from rdkit.DataStructs.cDataStructs import ConvertToNumpyArray\n",
    "from rdkit import DataStructs\n",
    "from minisom import MiniSom\n",
    "import numpy as np\n",
    "import random\n",
    "import pandas as pd\n",
    "import matplotlib.pyplot as plt\n",
    "import matplotlib\n",
    "import math\n",
    "from rdkit.Chem.Descriptors import ExactMolWt\n",
    "from utilities import tokenizer as tkn\n",
    "import pickle\n",
    "from tqdm import tqdm\n",
    "from gentrl.som import FpsSOM\n",
    "\n",
    "from utilities.candiconfig import CandiConfig\n",
    "\n",
    "config = CandiConfig(smiles_format=2, topn_fp_features=5, mode='threshold', max_fp_features=2048, threshold=0.3, morgan_radius=2)\n",
    "\n",
    "np.set_printoptions(suppress=True)\n",
    "\n",
    "# Plan 1: Set the diff threshold. Solution \n",
    "# Plan2: Set the number of features to be saved. Larger features are easier to save.\n",
    "# threshold = 0.28\n",
    "# num_features = 5\n",
    "\n",
    "# fptype: rdkit, MACCSkeys, Morgan, Avalon\n",
    "fptype = 'rdkit'"
   ]
  },
  {
   "cell_type": "code",
   "execution_count": null,
   "id": "4b5b0deb",
   "metadata": {},
   "outputs": [],
   "source": [
    "# read the molecules from LA and zinc files, c\n",
    "\n",
    "# Read the smiles molecular formula of LA\n",
    "LA_list = []\n",
    "with open(config.LA_smiles_file, 'r', encoding='utf-8') as f:\n",
    "    for line in f:\n",
    "        LA_list.append(line.strip())\n",
    "\n",
    "# Read the smiles molecular formula of zinc\n",
    "zinc_list = []\n",
    "with open(config.zinc_file, 'r', encoding='utf-8') as f:\n",
    "    for line in f:\n",
    "        zinc_list.append(line.strip().split(',')[0])\n",
    "        \n",
    "zinc_sampled_list = random.sample(zinc_list, 5*len(LA_list))"
   ]
  },
  {
   "cell_type": "markdown",
   "id": "f709bb73",
   "metadata": {},
   "source": [
    "### Define some functions to obtain smile molecular fingerprints\n",
    "Molecular fingerprints include many types:\n",
    "\n",
    " * rdkit：RDKFingerprint\n",
    " * MACCSkeys: MACCSkeys\n",
    " * ...\n",
    " "
   ]
  },
  {
   "cell_type": "code",
   "execution_count": null,
   "id": "fa1314a2",
   "metadata": {},
   "outputs": [],
   "source": [
    "def get_rdkitFP(smiles):\n",
    "    fingerprints = []\n",
    "    safe = []\n",
    "    for sm_idx, sm in enumerate(smiles):\n",
    "        try:\n",
    "            mol = Chem.MolFromSmiles(sm)\n",
    "            fingerprint = RDKFingerprint(mol)\n",
    "            fingerprints.append(fingerprint)\n",
    "            safe.append(sm_idx)\n",
    "        except:\n",
    "            print(\"Error: \"+str(sm_idx))\n",
    "\n",
    "    fp_TopoFingerprint = pd.DataFrame(fingerprints)\n",
    "    num_of_smiles = fp_TopoFingerprint.shape[0]\n",
    "    \n",
    "    fp_list = []\n",
    "    for fp in fp_TopoFingerprint[0]:\n",
    "        arr = np.zeros((0, ), dtype=np.int8)\n",
    "        ConvertToNumpyArray(fp, arr)\n",
    "        fp_list.append(arr)\n",
    "        \n",
    "    return np.array(fp_list)\n",
    "\n",
    "def get_MACCSkeys(smiles):\n",
    "    fingerprints = []\n",
    "    for idx,sm in enumerate(smiles):\n",
    "        mol = Chem.MolFromSmiles(sm)\n",
    "        try:\n",
    "            fp = [x for x in MACCSkeys.GenMACCSKeys(mol)]\n",
    "            fingerprints.append(fp)\n",
    "        except:\n",
    "            print(\"Error\", idx)\n",
    "            \n",
    "    return np.array(fingerprints)\n",
    "\n",
    "\n",
    "def get_MorganFP(smiles):\n",
    "    fingerprints = []\n",
    "    for idx,sm in enumerate(smiles):\n",
    "        mol = Chem.MolFromSmiles(sm)\n",
    "        try:\n",
    "            fp = [x for x in AllChem.GetMorganFingerprintAsBitVect(mol, config.morgan_radius, config.max_fp_features)]\n",
    "            fingerprints.append(fp)\n",
    "        except:\n",
    "            print(\"Error\", idx)\n",
    "            \n",
    "    return np.array(fingerprints)\n",
    "\n",
    "def get_AvalonFP(smiles):\n",
    "    fingerprints = []\n",
    "    for idx,sm in enumerate(smiles):\n",
    "        mol = Chem.MolFromSmiles(sm)\n",
    "        try:\n",
    "            fp = [x for x in pyAvalonTools.GetAvalonFP(mol)]\n",
    "            fingerprints.append(fp)\n",
    "        except:\n",
    "            print(\"Error\", idx)\n",
    "    \n",
    "    return np.array(fingerprints)"
   ]
  },
  {
   "cell_type": "markdown",
   "id": "380aa60f",
   "metadata": {},
   "source": [
    "### Define the function to obtain the molecular fingerprint, the default is rdkit fingerprint\n",
    "\n",
    "from: https://www.daylight.com/dayhtml/doc/theory/theory.finger.html\n",
    "\n",
    "> In spite of the difference between the meaning of a fingerprint's bits and a structural key's bits, fingerprints share an important feature with structural keys: If a pattern is a substructure of a molecule, every bit that is set in the pattern's fingerprint will be set in the molecule's fingerprint. This means that, like structural keys, we can use simple boolean operations on fingerprints to screen molecules as we search a database, making a fingerprint comparison an extremely fast screen for substructure searching.\n",
    "\n",
    "> The best way to think of the bits of a fingerprint is as \"shared\" among an unknown but very large number\n",
    "The best way to think of the bits of a fingerprint is as \"shared\" among an unknown but very large number of patterns. Each pattern generates its particular set of bits; so long as at least one of those bits is unique (not shared with any other pattern present in the molecule), we can tell if the pattern is present or not. A structural key indicates with certainty that a particular pattern is present or absent. Fingerprints are not so definite: if a fingerprint indicates a pattern is missing then it certainly is, but it can only indicate a pattern's presence with some probability. Although a fingerprint doesn't indicate with 100% certainty that a particular pattern is present, it contains far more patterns total than a structural key, the net result being that a fingerprint is a far better screen than a structural key in almost all situations.\n"
   ]
  },
  {
   "cell_type": "code",
   "execution_count": null,
   "id": "3f75a9d8",
   "metadata": {},
   "outputs": [],
   "source": [
    "def get_fingerprints_from_smiles(smiles, fptype='rdkit'):\n",
    "    if fptype == 'rdkit':\n",
    "        return get_rdkitFP(smiles)\n",
    "    elif fptype == 'MACCSkeys':\n",
    "        return get_MACCSkeys(smiles)\n",
    "    elif fptype == 'Morgan':\n",
    "        return get_MorganFP(smiles)\n",
    "    elif fptype == 'Avalon':\n",
    "        return get_AvalonFP(smiles)"
   ]
  },
  {
   "cell_type": "markdown",
   "id": "6529d881",
   "metadata": {},
   "source": [
    "### Define the function: Given two smiles data sets, return the top N subscripts with the largest frequency difference in the feature occurrence in the molecular fingerprint"
   ]
  },
  {
   "cell_type": "code",
   "execution_count": null,
   "id": "3072fdf8",
   "metadata": {},
   "outputs": [],
   "source": [
    "def get_maxDiff_idxs(fps1, fps2, mode='topn'):\n",
    "    '''\n",
    "    fps1, fps2: two different fingerprints arrays from different kinds of datasets\n",
    "    mode: 1. topn: mannually choose the top-n indexs， n is the number of features in fingerprints\n",
    "          2. threshold: set the difference threshold, top-n is not sure\n",
    "          3. all: use all features\n",
    "    \n",
    "    return: the top-n indexes (np.array) with the largest feature frequency gap in molecular fingerprints\n",
    "    '''\n",
    "    # 对分子指纹的每一位（个）特征进行数量统计,除以样本数量以正则化\n",
    "\n",
    "    # 计算每一位的个数\n",
    "    sum_1 = np.sum(fps1, axis=0)\n",
    "    sum_2 = np.sum(fps2, axis=0)\n",
    "    # 计算差值，\n",
    "    diff = sum_1/fps1.shape[0] - sum_2/fps2.shape[0]\n",
    "    \n",
    "    if config.mode == 'topn':\n",
    "        # 利用topn_fp_features计算下标\n",
    "        idxs = np.argsort(np.abs(diff))[::-1][:config.topn_fp_features]\n",
    "    elif config.mode == 'threshold':\n",
    "        # 利用threshold计算下标\n",
    "        idxs = np.where(np.abs(diff) >= config.threshold)[0]\n",
    "    else:\n",
    "        idxs = list(range(len(diff)))\n",
    "    \n",
    "    print(\"The top %d indexes with the largest feature frequency gap:\" %len(idxs))\n",
    "    print(\"indexs: \", idxs)\n",
    "    print(\"frequency differences: \", diff[idxs])\n",
    "    return idxs"
   ]
  },
  {
   "cell_type": "markdown",
   "id": "ec32bf0c",
   "metadata": {},
   "source": [
    "### Calculate indexs"
   ]
  },
  {
   "cell_type": "code",
   "execution_count": null,
   "id": "23793914",
   "metadata": {
    "scrolled": true
   },
   "outputs": [],
   "source": [
    "LA_fps = get_fingerprints_from_smiles(LA_list, fptype)\n",
    "zinc_fps = get_fingerprints_from_smiles(zinc_sampled_list, fptype)\n",
    "\n",
    "idxs = get_maxDiff_idxs(LA_fps, zinc_fps, mode=config.mode)"
   ]
  },
  {
   "cell_type": "markdown",
   "id": "bc828a27",
   "metadata": {},
   "source": [
    "### Label the data, re-extract the zinc data (1:1), and perform SOM training"
   ]
  },
  {
   "cell_type": "code",
   "execution_count": null,
   "id": "f5631cf4",
   "metadata": {},
   "outputs": [],
   "source": [
    "# re-extract the zinc data (1:1), and perform SOM training\n",
    "LA_list_labeled = [sm + ',LA' for sm in LA_list]\n",
    "zinc_list_labeled = [sm +',ZINC' for sm in zinc_list]\n",
    "\n",
    "\n",
    "zinc_sampled_list = random.sample(zinc_list_labeled, len(LA_list))\n",
    "smile_list = LA_list_labeled + zinc_sampled_list\n",
    "random.shuffle(smile_list)\n",
    "\n",
    "# save to file\n",
    "with open(config.SOM_smiles_file, 'w', encoding='utf-8') as f:\n",
    "    for sm in smile_list:\n",
    "        f.write(sm+'\\n')"
   ]
  },
  {
   "cell_type": "code",
   "execution_count": null,
   "id": "602b85f0",
   "metadata": {},
   "outputs": [],
   "source": [
    "# 读取训练数据，生成二元label\n",
    "train_smiles_list = []\n",
    "label_list = []\n",
    "with open(config.SOM_smiles_file, 'r', encoding='utf-8') as f:\n",
    "    for line in f:\n",
    "        smile, label = line.strip().split(',')\n",
    "        train_smiles_list.append(smile)\n",
    "        label_list.append(0 if label != 'LA' else 1)\n",
    "        \n",
    "print(\"There are \"+ str(len(train_smiles_list)) +\" smile molecules in total!\")\n",
    "print(\"The rectangle size should be at least: \" + str(math.ceil(np.sqrt(5 * np.sqrt(len(train_smiles_list))))))\n",
    "\n",
    "\n",
    "fingerprints = get_fingerprints_from_smiles(train_smiles_list, fptype).astype(np.float32)\n",
    "fps = fingerprints[:, idxs]\n",
    "labels = np.array(label_list)\n",
    "\n",
    "np.save(config.SOM_fps, fps)\n",
    "np.save(config.SOM_labels, labels)"
   ]
  },
  {
   "cell_type": "code",
   "execution_count": null,
   "id": "38c942ec",
   "metadata": {
    "scrolled": true
   },
   "outputs": [],
   "source": [
    "size = 10 # sqrt(5*sqrt(N samples)\n",
    "som = MiniSom(size, size, fps.shape[1], sigma=3, learning_rate=0.5, neighborhood_function='triangle', activation_distance='euclidean')\n",
    "# som.pca_weights_init(fps)\n",
    "som.random_weights_init(fps)\n",
    "som.train(fps, 20000, random_order=True, verbose=True)\n",
    "winmap = som.labels_map(fps,labels)"
   ]
  },
  {
   "cell_type": "code",
   "execution_count": null,
   "id": "f8075a0f",
   "metadata": {},
   "outputs": [],
   "source": [
    "plt.figure(figsize=(8, 8))\n",
    "wmap = {}\n",
    "im = 0\n",
    "\n",
    "for x, t in zip(fps, labels):  # scatterplot\n",
    "    w = som.winner(x)\n",
    "    wmap[w] = im\n",
    "    plt.scatter(w[0],  w[1], color='red' if t==0 else 'blue')\n",
    "    im = im + 1\n",
    "plt.axis([-1, som.get_weights().shape[0], -1,  som.get_weights().shape[1]])\n",
    "plt.show()"
   ]
  },
  {
   "cell_type": "code",
   "execution_count": null,
   "id": "30f199a1",
   "metadata": {},
   "outputs": [],
   "source": [
    "heatmap = som.distance_map()\n",
    "plt.imshow(heatmap, cmap='bone_r')\n",
    "plt.colorbar()"
   ]
  },
  {
   "cell_type": "code",
   "execution_count": null,
   "id": "7b10e01e",
   "metadata": {},
   "outputs": [],
   "source": [
    "label_name_map_number = {\"LA\":1,\"Zinc\":0}\n",
    "class_names = [\"Zinc\", \"LA\"]\n",
    "\n",
    "from matplotlib.gridspec import GridSpec\n",
    "plt.figure(figsize=(9, 9))\n",
    "the_grid = GridSpec(size, size)\n",
    "for position in winmap.keys():\n",
    "    label_fracs = [winmap[position][label] for label in [0,1]]\n",
    "    plt.subplot(the_grid[position[0], position[1]], aspect=1)\n",
    "    patches, texts = plt.pie(label_fracs)\n",
    "    plt.text(position[0]/100, position[1]/100,  str(len(list(winmap[position].elements()))),\n",
    "              color='black', fontdict={'weight': 'bold',  'size': 15},\n",
    "              va='center',ha='center')\n",
    "plt.legend(patches, class_names, loc='center right', bbox_to_anchor=(-1,9), ncol=3)\n",
    "plt.show()\n"
   ]
  },
  {
   "cell_type": "markdown",
   "id": "6a24b45f",
   "metadata": {},
   "source": [
    "### Save SOM model"
   ]
  },
  {
   "cell_type": "code",
   "execution_count": null,
   "id": "6b62cf98",
   "metadata": {},
   "outputs": [],
   "source": [
    "with open(config.SOM_model, 'wb') as outfile:\n",
    "    pickle.dump(som, outfile)"
   ]
  },
  {
   "cell_type": "markdown",
   "id": "f2e34266",
   "metadata": {},
   "source": [
    "### Set up a scoring function based on the SOM model\n",
    "> Input: 1. smiles molecule 2. radius (scoring point radius) 3. trained som model\n",
    "Output: reward\n",
    "Algorithm: Given a smiles molecule, calculate the winning weight node through som, and then draw a circle with radius as the radius based on the winning weight node. The nodes within the circle are valid nodes, where the valid ones are positive 1 and the invalid ones are negative 1. Calculate the score within this circle and then determine it as the reward score."
   ]
  },
  {
   "cell_type": "code",
   "execution_count": null,
   "id": "bee84a55",
   "metadata": {},
   "outputs": [],
   "source": [
    "def points_in_radius(center, size, radius):\n",
    "    x_c, y_c = center\n",
    "    side_arr = np.array(list(range(size)))\n",
    "    x_grid, y_grid = np.meshgrid(side_arr, side_arr)\n",
    "    disk = ((x_grid - x_c)**2 + (y_grid - y_c)**2) <= radius**2\n",
    "    return list(zip(x_grid[disk], y_grid[disk]))\n",
    "\n",
    "\n",
    "def som_reward(smiles, som, winmap, config, index, radius=1, ftype='rdkit'):\n",
    "    # 0. get the fingerprint of smiles\n",
    "    reward = None\n",
    "    if not smiles or not som:\n",
    "        return reward\n",
    "    \n",
    "    fp = get_fingerprints_from_smiles([smiles], ftype)[:, index]\n",
    "    # 1. get the winner point using fingerprint and som\n",
    "    winner_point = som.winner(fp)\n",
    "    \n",
    "    # 2. find the points in the circle with winner as the center and radius\n",
    "    points = points_in_radius(winner_point, som._neigx.shape[0], radius)\n",
    "    # 3. calculate the rewards by all the points in that circle\n",
    "    reward = 0\n",
    "#     print(winner_point, points)\n",
    "    for p in points:\n",
    "        ct = winmap[p]\n",
    "        if len(ct) > 0:\n",
    "            reward = reward - ct[0] + ct[1]\n",
    "            if p == winner_point:\n",
    "                reward = reward - 0.5 * (ct[0] - ct[1])\n",
    "    \n",
    "    return reward"
   ]
  },
  {
   "cell_type": "markdown",
   "id": "c34fdfe2",
   "metadata": {},
   "source": [
    "### read SOM model"
   ]
  },
  {
   "cell_type": "code",
   "execution_count": null,
   "id": "0e260145",
   "metadata": {},
   "outputs": [],
   "source": [
    "with open(config.SOM_model, 'rb') as infile:\n",
    "    som = pickle.load(infile)\n",
    "\n",
    "# read the fingerprints and labels that are used in training SOM model\n",
    "fps = np.load(config.SOM_fps)\n",
    "labels = np.load(config.SOM_labels)\n",
    "# calculate the winner map on the original dataset\n",
    "winmap = som.labels_map(fps,labels)"
   ]
  },
  {
   "cell_type": "markdown",
   "id": "0b61c33e",
   "metadata": {},
   "source": [
    "### generate training data"
   ]
  },
  {
   "cell_type": "code",
   "execution_count": null,
   "id": "184d1609",
   "metadata": {},
   "outputs": [],
   "source": [
    "LA_list = []\n",
    "with open(config.LA_smiles_file, 'r', encoding='utf-8') as f:\n",
    "    for line in f:\n",
    "        LA_list.append(line.strip())\n",
    "\n",
    "# read zinc smiles molecules\n",
    "zinc_list = []\n",
    "with open(config.zinc_file, 'r', encoding='utf-8') as f:\n",
    "    for line in f:\n",
    "        if line.strip().endswith(\"train\"):\n",
    "            zinc_list.append(line.strip().split(',')[0]) \n",
    "        \n",
    "merged_list = LA_list+zinc_list\n",
    "random.shuffle(merged_list)\n",
    "\n",
    "train_list = []\n",
    "\n",
    "for sm in tqdm(merged_list):\n",
    "    train_list.append(sm +\",train,\"+str(som_reward(sm, som, winmap, config, index=idxs, radius=1, ftype='rdkit')))\n",
    "\n",
    "    \n",
    "header = \"SMILES,SPLIT,reward\\n\"\n",
    "\n",
    "with open(config.mixed_train_dataset, 'w', encoding='utf-8') as f:\n",
    "    f.write(header)\n",
    "    for sm in train_list:\n",
    "        f.write(sm+'\\n')"
   ]
  },
  {
   "cell_type": "markdown",
   "id": "dce00b46",
   "metadata": {},
   "source": [
    "### Create a new FpsSOM object and save it"
   ]
  },
  {
   "cell_type": "code",
   "execution_count": null,
   "id": "c5383f52",
   "metadata": {},
   "outputs": [],
   "source": [
    "# size is from previous block where minisom is initializd\n",
    "fpssom = FpsSOM(config, size=10, from_pikle=False)\n",
    "\n",
    "\n",
    "fpssom.size = 10\n",
    "fpssom.som = som\n",
    "fpssom.winmap = winmap\n",
    "\n",
    "# save the model\n",
    "with open(config.FpsSOM_model, 'wb') as outfile:\n",
    "    pickle.dump(fpssom, outfile)"
   ]
  },
  {
   "cell_type": "markdown",
   "id": "532a4f22",
   "metadata": {},
   "source": [
    "### test single molecule"
   ]
  },
  {
   "cell_type": "code",
   "execution_count": null,
   "id": "0d4d2d47",
   "metadata": {},
   "outputs": [],
   "source": [
    "smiles = 'CCCC1CN(c2nc(C)cc(C)n2)CC1NC(=O)C1(COC)CC1'\n",
    "som_reward(smiles, som, winmap, config, index=idxs, radius=1, ftype='rdkit')"
   ]
  },
  {
   "cell_type": "markdown",
   "id": "74785b3a",
   "metadata": {},
   "source": [
    "### test multiple molecules"
   ]
  },
  {
   "cell_type": "code",
   "execution_count": null,
   "id": "c19be04e",
   "metadata": {},
   "outputs": [],
   "source": [
    "# read all LA molecules in smiles foramt\n",
    "LA_smiles = []\n",
    "with open(config.LA_smiles_file, 'r', encoding='utf-8') as f:\n",
    "    for line in f:\n",
    "        LA_smiles.append(line.strip())\n",
    "        \n",
    "LA_rewards = []\n",
    "for sm in LA_smiles:\n",
    "    LA_rewards.append(som_reward(sm, som, winmap, config, index=idxs, radius=1, ftype='rdkit'))\n",
    "    \n",
    "    \n",
    "plt.hist(LA_rewards)"
   ]
  },
  {
   "cell_type": "code",
   "execution_count": null,
   "id": "e82af938",
   "metadata": {
    "scrolled": true
   },
   "outputs": [],
   "source": [
    "# read all zinc molecules in smiles format\n",
    "zinc_smiles = []\n",
    "with open(config.zinc_file, 'r', encoding='utf-8') as f:\n",
    "    for line in f:\n",
    "        zinc_smiles.append(line.strip().split(',')[0])\n",
    "\n",
    "zinc_smiles.remove('SMILES')\n",
    "\n",
    "zinc_sampled_smiles = random.sample(zinc_smiles, 10*len(LA_smiles))\n",
    "\n",
    "zinc_rewards = []\n",
    "for sm in zinc_sampled_smiles:\n",
    "    zinc_rewards.append(som_reward(sm, som, winmap, config, index=idxs, radius=1, ftype='rdkit'))\n",
    "\n",
    "plt.hist(zinc_rewards)"
   ]
  },
  {
   "cell_type": "code",
   "execution_count": null,
   "id": "7f27b8ec",
   "metadata": {},
   "outputs": [],
   "source": [
    "wrong = [r for r in zinc_rewards if r > 0 ]\n",
    "print(len(wrong), len(zinc_rewards), len(wrong)/len(zinc_rewards))"
   ]
  },
  {
   "cell_type": "code",
   "execution_count": null,
   "id": "b69c732b",
   "metadata": {},
   "outputs": [],
   "source": []
  },
  {
   "cell_type": "code",
   "execution_count": null,
   "id": "d6fe7d14",
   "metadata": {},
   "outputs": [],
   "source": []
  }
 ],
 "metadata": {
  "kernelspec": {
   "display_name": "Python 3 (ipykernel)",
   "language": "python",
   "name": "python3"
  },
  "language_info": {
   "codemirror_mode": {
    "name": "ipython",
    "version": 3
   },
   "file_extension": ".py",
   "mimetype": "text/x-python",
   "name": "python",
   "nbconvert_exporter": "python",
   "pygments_lexer": "ipython3",
   "version": "3.9.17"
  }
 },
 "nbformat": 4,
 "nbformat_minor": 5
}
