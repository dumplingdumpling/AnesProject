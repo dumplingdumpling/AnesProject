{
 "cells": [
  {
   "cell_type": "code",
   "execution_count": 1,
   "id": "eaa21af6",
   "metadata": {},
   "outputs": [],
   "source": [
    "from rdkit import Chem\n",
    "from rdkit.Chem import Draw\n",
    "from rdkit.Chem import AllChem\n",
    "from rdkit.Chem import MACCSkeys\n",
    "from rdkit import DataStructs\n",
    "from minisom import MiniSom\n",
    "import numpy as np\n",
    "import random\n",
    "import pandas as pd\n",
    "import matplotlib.pyplot as plt\n",
    "import matplotlib\n",
    "import math\n",
    "from rdkit.Chem.Descriptors import ExactMolWt\n",
    "from utilities import tokenizer as tkn\n",
    "\n",
    "from utilities.config import Config\n",
    "\n",
    "config = Config()\n",
    "\n",
    "np.set_printoptions(suppress=True)\n",
    "\n",
    "# 方案一： 设置diff阈值； 方案二：设置保存的特征数，大的更容易保存\n",
    "# threshold = 0.28\n",
    "# num_features = 5\n"
   ]
  },
  {
   "cell_type": "markdown",
   "id": "03b78b3c",
   "metadata": {},
   "source": [
    "### 查看smiles分子"
   ]
  },
  {
   "cell_type": "code",
   "execution_count": 20,
   "id": "9d4f043a",
   "metadata": {},
   "outputs": [
    {
     "data": {
      "image/png": "[encoded data removed]",
      "text/plain": [
       "<rdkit.Chem.rdchem.Mol at 0x7f97592460a0>"
      ]
     },
     "execution_count": 20,
     "metadata": {},
     "output_type": "execute_result"
    }
   ],
   "source": [
    "mol = Chem.MolFromSmiles('COC(=O)c1ccc(NC(=O)CCOc2ccccc2)cc1Cl')\n",
    "mol"
   ]
  },
  {
   "cell_type": "markdown",
   "id": "621beacf",
   "metadata": {},
   "source": [
    "### 统计Zinc和LA的 MACCS Keys 分子指纹"
   ]
  },
  {
   "cell_type": "code",
   "execution_count": 3,
   "id": "c87d3360",
   "metadata": {},
   "outputs": [
    {
     "name": "stderr",
     "output_type": "stream",
     "text": [
      "RDKit WARNING: [19:45:08] WARNING: not removing hydrogen atom without neighbors\n",
      "RDKit WARNING: [19:45:08] WARNING: not removing hydrogen atom without neighbors\n",
      "RDKit WARNING: [19:45:08] WARNING: not removing hydrogen atom without neighbors\n"
     ]
    }
   ],
   "source": [
    "# read the molecules from LA and zinc files, c\n",
    "\n",
    "# 读取LA的smiles分子式\n",
    "LA_list = []\n",
    "with open(config.LA_smiles_file, 'r', encoding='utf-8') as f:\n",
    "    for line in f:\n",
    "        LA_list.append(line.strip())\n",
    "\n",
    "# 读取zinc的smiles分子式\n",
    "zinc_list = []\n",
    "with open(config.zinc_file, 'r', encoding='utf-8') as f:\n",
    "    for line in f:\n",
    "        zinc_list.append(line.strip().split(',')[0])\n",
    "        \n",
    "zinc_sampled_list = random.sample(zinc_list, 5*len(LA_list))\n",
    "\n",
    "LA_mol_wt = []\n",
    "# 生成LA的分子指纹\n",
    "LA_fingerprint = []\n",
    "for idx,sm in enumerate(LA_list):\n",
    "    mol = Chem.MolFromSmiles(sm)\n",
    "    LA_mol_wt.append(ExactMolWt(mol))\n",
    "    try:\n",
    "        fp = [x for x in MACCSkeys.GenMACCSKeys(mol)]\n",
    "        LA_fingerprint.append(fp)\n",
    "    except:\n",
    "        print(\"Error\", idx)\n",
    "\n",
    "# 生成zinc的分子指纹\n",
    "zinc_fingerprint = []\n",
    "for idx,sm in enumerate(zinc_sampled_list):\n",
    "    mol = Chem.MolFromSmiles(sm)\n",
    "    try:\n",
    "        fp = [x for x in MACCSkeys.GenMACCSKeys(mol)]\n",
    "        zinc_fingerprint.append(fp)\n",
    "    except:\n",
    "        print(\"Error\", idx)\n",
    "        \n",
    "        \n",
    "LA_fingerprint = np.array(LA_fingerprint).astype(np.float64)\n",
    "zinc_fingerprint = np.array(zinc_fingerprint).astype(np.float64)\n"
   ]
  },
  {
   "cell_type": "code",
   "execution_count": 4,
   "id": "fdb6bc5e",
   "metadata": {},
   "outputs": [
    {
     "data": {
      "text/plain": [
       "array([-0.41428571,  0.36363636, -0.32467532,  0.3017316 , -0.2995671 ])"
      ]
     },
     "execution_count": 4,
     "metadata": {},
     "output_type": "execute_result"
    }
   ],
   "source": [
    "# 对167位分子指纹进行数量统计,除以样本数量以正则化\n",
    "\n",
    "# 计算每一位的个数\n",
    "LA_sum = np.sum(LA_fingerprint, axis=0)\n",
    "zinc_sum = np.sum(zinc_fingerprint, axis=0)\n",
    "# 计算差值，\n",
    "diff = LA_sum/LA_fingerprint.shape[0] - zinc_sum/zinc_fingerprint.shape[0]\n",
    "\n",
    "# 利用threshold计算下标\n",
    "# idxs = np.where(np.abs(diff) >= threshold)[0]\n",
    "# 利用som_num_features计算下标\n",
    "idxs = np.argsort(np.abs(diff))[::-1][:config.som_num_features]\n",
    "\n",
    "diff[idxs]\n",
    "# # 抽出新的分子指纹\n",
    "# new_LA_fp = LA_fingerprint[:, idxs[0]]\n",
    "# new_zinc_fp = zinc_fingerprint[:, idxs[0]]"
   ]
  },
  {
   "cell_type": "markdown",
   "id": "f59eec92",
   "metadata": {},
   "source": [
    "### 重新抽取数据，并进行SOM训练"
   ]
  },
  {
   "cell_type": "code",
   "execution_count": 5,
   "id": "70b44cec",
   "metadata": {},
   "outputs": [],
   "source": [
    "# 重新抽取LA和zinc数据集，1:1\n",
    "\n",
    "LA_list = []\n",
    "with open(config.LA_smiles_file, 'r', encoding='utf-8') as f:\n",
    "    for line in f:\n",
    "        LA_list.append(line.strip()+\",LA\")\n",
    "        \n",
    "zinc_list = []\n",
    "with open(config.zinc_file, 'r', encoding='utf-8') as f:\n",
    "    for line in f:\n",
    "        zinc_list.append(line.strip().split(',')[0] + \",OTHER\")\n",
    "        \n",
    "zinc_sampled_list = random.sample(zinc_list, len(LA_list))\n",
    "smile_list = LA_list + zinc_sampled_list\n",
    "random.shuffle(smile_list)\n",
    "\n",
    "# 将抽取结果保存至文件\n",
    "with open(config.SOM_smiles_file, 'w', encoding='utf-8') as f:\n",
    "    for sm in smile_list:\n",
    "        f.write(sm+'\\n')"
   ]
  },
  {
   "cell_type": "code",
   "execution_count": 6,
   "id": "14ef9503",
   "metadata": {},
   "outputs": [
    {
     "name": "stdout",
     "output_type": "stream",
     "text": [
      "There are 924 smile molecules in total!\n",
      "The rectangle size should be at least: 13\n"
     ]
    }
   ],
   "source": [
    "train_smiles_list = []\n",
    "label_list = []\n",
    "with open(config.SOM_smiles_file, 'r', encoding='utf-8') as f:\n",
    "    for line in f:\n",
    "        smile, label = line.strip().split(',')\n",
    "        train_smiles_list.append(smile)\n",
    "        label_list.append(0 if label != 'LA' else 1)\n",
    "        \n",
    "print(\"There are \"+ str(len(train_smiles_list)) +\" smile molecules in total!\")\n",
    "print(\"The rectangle size should be at least: \" + str(math.ceil(np.sqrt(5 * np.sqrt(len(train_smiles_list))))))"
   ]
  },
  {
   "cell_type": "code",
   "execution_count": 7,
   "id": "002e6929",
   "metadata": {},
   "outputs": [
    {
     "name": "stderr",
     "output_type": "stream",
     "text": [
      "RDKit WARNING: [20:44:08] WARNING: not removing hydrogen atom without neighbors\n",
      "RDKit WARNING: [20:44:08] WARNING: not removing hydrogen atom without neighbors\n",
      "RDKit WARNING: [20:44:08] WARNING: not removing hydrogen atom without neighbors\n"
     ]
    }
   ],
   "source": [
    "fingerprint_list = []\n",
    "for idx,sm in enumerate(train_smiles_list):\n",
    "    mol = Chem.MolFromSmiles(sm)\n",
    "    try:\n",
    "        fp = [x for x in MACCSkeys.GenMACCSKeys(mol)]\n",
    "        fingerprint_list.append(fp)\n",
    "    except:\n",
    "        print(\"Error\", idx)\n",
    "        \n",
    "fingerprints = np.array(fingerprint_list).astype(np.float64)\n",
    "fps = fingerprints[:, idxs]\n",
    "labels = np.array(label_list)"
   ]
  },
  {
   "cell_type": "code",
   "execution_count": 8,
   "id": "84a4aa05",
   "metadata": {},
   "outputs": [
    {
     "name": "stdout",
     "output_type": "stream",
     "text": [
      " [ 5000 / 5000 ] 100% - 0:00:00 left \n",
      " quantization error: 4.006235871814284e-05\n"
     ]
    },
    {
     "name": "stderr",
     "output_type": "stream",
     "text": [
      "/home/ljy/.conda/envs/rdkit/lib/python3.9/site-packages/minisom.py:486: RuntimeWarning: invalid value encountered in sqrt\n",
      "  return sqrt(-2 * cross_term + input_data_sq + weights_flat_sq.T)\n"
     ]
    }
   ],
   "source": [
    "size = 18\n",
    "som = MiniSom(size, size, fps.shape[1], sigma=3, learning_rate=0.5, neighborhood_function='triangle')\n",
    "# som.pca_weights_init(fps)\n",
    "som.random_weights_init(fps)\n",
    "som.train(fps, 5000, random_order=True, verbose=True)\n",
    "winmap = som.labels_map(fps,labels)"
   ]
  },
  {
   "cell_type": "code",
   "execution_count": 9,
   "id": "b11c64ab",
   "metadata": {},
   "outputs": [
    {
     "data": {
      "image/png": "[encoded data removed]",
      "text/plain": [
       "<Figure size 576x576 with 1 Axes>"
      ]
     },
     "metadata": {
      "needs_background": "light"
     },
     "output_type": "display_data"
    }
   ],
   "source": [
    "plt.figure(figsize=(8, 8))\n",
    "wmap = {}\n",
    "im = 0\n",
    "\n",
    "for x, t in zip(fps, labels):  # scatterplot\n",
    "    w = som.winner(x)\n",
    "    wmap[w] = im\n",
    "    plt.scatter(w[0],  w[1], color='red' if t==0 else 'blue')\n",
    "    im = im + 1\n",
    "plt.axis([-1, som.get_weights().shape[0], -1,  som.get_weights().shape[1]])\n",
    "plt.show()"
   ]
  },
  {
   "cell_type": "code",
   "execution_count": 10,
   "id": "ebf58a5f",
   "metadata": {},
   "outputs": [
    {
     "data": {
      "text/plain": [
       "<matplotlib.colorbar.Colorbar at 0x7fbfa84dd250>"
      ]
     },
     "execution_count": 10,
     "metadata": {},
     "output_type": "execute_result"
    },
    {
     "data": {
      "image/png": "[encoded data removed]",
      "text/plain": [
       "<Figure size 432x288 with 2 Axes>"
      ]
     },
     "metadata": {
      "needs_background": "light"
     },
     "output_type": "display_data"
    }
   ],
   "source": [
    "heatmap = som.distance_map()\n",
    "plt.imshow(heatmap, cmap='bone_r')\n",
    "plt.colorbar()"
   ]
  },
  {
   "cell_type": "code",
   "execution_count": 11,
   "id": "a2406252",
   "metadata": {},
   "outputs": [
    {
     "data": {
      "image/png": "[encoded data removed]",
      "text/plain": [
       "<Figure size 648x648 with 32 Axes>"
      ]
     },
     "metadata": {},
     "output_type": "display_data"
    }
   ],
   "source": [
    "label_name_map_number = {\"LA\":1,\"Zinc\":0}\n",
    "class_names = [\"Zinc\", \"LA\"]\n",
    "\n",
    "from matplotlib.gridspec import GridSpec\n",
    "plt.figure(figsize=(9, 9))\n",
    "the_grid = GridSpec(size, size)\n",
    "for position in winmap.keys():\n",
    "    label_fracs = [winmap[position][label] for label in [0,1]]\n",
    "    plt.subplot(the_grid[position[1], position[0]], aspect=1)\n",
    "    patches, texts = plt.pie(label_fracs)\n",
    "    plt.text(position[0]/100, position[1]/100,  str(len(list(winmap[position].elements()))),\n",
    "              color='black', fontdict={'weight': 'bold',  'size': 15},\n",
    "              va='center',ha='center')\n",
    "plt.legend(patches, class_names, loc='center right', bbox_to_anchor=(-1,9), ncol=3)\n",
    "plt.show()\n"
   ]
  },
  {
   "cell_type": "code",
   "execution_count": 12,
   "id": "ffa15e1b",
   "metadata": {
    "scrolled": true
   },
   "outputs": [
    {
     "data": {
      "text/plain": [
       "defaultdict(list,\n",
       "            {(10, 14): Counter({1: 27, 0: 17}),\n",
       "             (7, 10): Counter({0: 7, 1: 7}),\n",
       "             (0, 0): Counter({1: 186, 0: 11}),\n",
       "             (3, 7): Counter({1: 38, 0: 6}),\n",
       "             (0, 11): Counter({0: 84, 1: 52}),\n",
       "             (0, 8): Counter({0: 32, 1: 4}),\n",
       "             (3, 0): Counter({0: 32, 1: 12}),\n",
       "             (11, 4): Counter({0: 3, 1: 6}),\n",
       "             (3, 14): Counter({0: 5}),\n",
       "             (13, 13): Counter({0: 19, 1: 12}),\n",
       "             (11, 9): Counter({0: 20, 1: 8}),\n",
       "             (6, 0): Counter({0: 34, 1: 24}),\n",
       "             (16, 8): Counter({0: 3}),\n",
       "             (0, 16): Counter({1: 4, 0: 2}),\n",
       "             (10, 2): Counter({0: 1}),\n",
       "             (9, 0): Counter({0: 49, 1: 6}),\n",
       "             (17, 1): Counter({1: 12}),\n",
       "             (10, 17): Counter({0: 25}),\n",
       "             (16, 14): Counter({1: 10, 0: 4}),\n",
       "             (14, 1): Counter({0: 8}),\n",
       "             (8, 3): Counter({0: 29, 1: 21}),\n",
       "             (16, 11): Counter({0: 7}),\n",
       "             (17, 4): Counter({1: 18, 0: 4}),\n",
       "             (6, 17): Counter({1: 2, 0: 4}),\n",
       "             (14, 4): Counter({0: 23, 1: 1}),\n",
       "             (8, 7): Counter({0: 5}),\n",
       "             (0, 3): Counter({1: 12, 0: 8}),\n",
       "             (4, 10): Counter({0: 5}),\n",
       "             (6, 13): Counter({0: 3}),\n",
       "             (5, 15): Counter({0: 4}),\n",
       "             (14, 17): Counter({0: 5}),\n",
       "             (2, 16): Counter({0: 3})})"
      ]
     },
     "execution_count": 12,
     "metadata": {},
     "output_type": "execute_result"
    }
   ],
   "source": [
    "winmap"
   ]
  },
  {
   "cell_type": "markdown",
   "id": "3aa02262",
   "metadata": {},
   "source": [
    "idea: 通过获取矩阵中每个参数的百分比，来确定哪个参数与某个target/label的相关性，从而决定这个参数在打分时的重要性。"
   ]
  },
  {
   "cell_type": "markdown",
   "id": "3f9dac44",
   "metadata": {},
   "source": [
    "### 查看收集到的LA分子的重量"
   ]
  },
  {
   "cell_type": "code",
   "execution_count": 13,
   "id": "9786ee01",
   "metadata": {},
   "outputs": [
    {
     "data": {
      "text/plain": [
       "<BarContainer object of 462 artists>"
      ]
     },
     "execution_count": 13,
     "metadata": {},
     "output_type": "execute_result"
    },
    {
     "data": {
      "image/png": "[encoded data removed]",
      "text/plain": [
       "<Figure size 432x288 with 1 Axes>"
      ]
     },
     "metadata": {
      "needs_background": "light"
     },
     "output_type": "display_data"
    }
   ],
   "source": [
    "plt.bar(range(len(LA_mol_wt)), LA_mol_wt)"
   ]
  },
  {
   "cell_type": "code",
   "execution_count": 14,
   "id": "46fd2213",
   "metadata": {},
   "outputs": [
    {
     "data": {
      "text/plain": [
       "(array([ 18.,  89., 142.,  85.,  52.,  45.,  25.,   1.,   2.,   3.]),\n",
       " array([219.14918965, 254.87605671, 290.60292377, 326.32979084,\n",
       "        362.0566579 , 397.78352496, 433.51039202, 469.23725908,\n",
       "        504.96412615, 540.69099321, 576.41786027]),\n",
       " <BarContainer object of 10 artists>)"
      ]
     },
     "execution_count": 14,
     "metadata": {},
     "output_type": "execute_result"
    },
    {
     "data": {
      "image/png": "[encoded data removed]",
      "text/plain": [
       "<Figure size 432x288 with 1 Axes>"
      ]
     },
     "metadata": {
      "needs_background": "light"
     },
     "output_type": "display_data"
    }
   ],
   "source": [
    "plt.hist(LA_mol_wt)"
   ]
  },
  {
   "cell_type": "markdown",
   "id": "e1bfffb4",
   "metadata": {},
   "source": [
    "### 统计LA和Zinc的smiles分子长度"
   ]
  },
  {
   "cell_type": "code",
   "execution_count": 15,
   "id": "650189ce",
   "metadata": {},
   "outputs": [],
   "source": [
    "zinc_max_len = 0\n",
    "zinc_len = []\n",
    "for sm in zinc_list:\n",
    "    zinc_len.append(len(sm))\n",
    "    if len(sm) > zinc_max_len:\n",
    "        zinc_max_len = len(sm)\n",
    "        \n",
    "\n",
    "LA_max_len = 0\n",
    "LA_len = []\n",
    "for sm in LA_list:\n",
    "    LA_len.append(len(sm))\n",
    "    if len(sm) > LA_max_len:\n",
    "        LA_max_len = len(sm)"
   ]
  },
  {
   "cell_type": "code",
   "execution_count": 16,
   "id": "7446bdb7",
   "metadata": {},
   "outputs": [
    {
     "data": {
      "text/plain": [
       "(array([     1.,     40.,   1189.,  33320., 318858., 685480., 689467.,\n",
       "        196605.,  11798.,    205.]),\n",
       " array([12. , 17.1, 22.2, 27.3, 32.4, 37.5, 42.6, 47.7, 52.8, 57.9, 63. ]),\n",
       " <BarContainer object of 10 artists>)"
      ]
     },
     "execution_count": 16,
     "metadata": {},
     "output_type": "execute_result"
    },
    {
     "data": {
      "image/png": "[encoded data removed]",
      "text/plain": [
       "<Figure size 432x288 with 1 Axes>"
      ]
     },
     "metadata": {
      "needs_background": "light"
     },
     "output_type": "display_data"
    }
   ],
   "source": [
    "plt.hist(zinc_len)"
   ]
  },
  {
   "cell_type": "code",
   "execution_count": 17,
   "id": "bae0ea1f",
   "metadata": {},
   "outputs": [
    {
     "data": {
      "text/plain": [
       "(array([ 14., 115., 159.,  77.,  51.,  20.,  16.,   6.,   0.,   4.]),\n",
       " array([25. , 30.4, 35.8, 41.2, 46.6, 52. , 57.4, 62.8, 68.2, 73.6, 79. ]),\n",
       " <BarContainer object of 10 artists>)"
      ]
     },
     "execution_count": 17,
     "metadata": {},
     "output_type": "execute_result"
    },
    {
     "data": {
      "image/png": "[encoded data removed]",
      "text/plain": [
       "<Figure size 432x288 with 1 Axes>"
      ]
     },
     "metadata": {
      "needs_background": "light"
     },
     "output_type": "display_data"
    }
   ],
   "source": [
    "plt.hist(LA_len)"
   ]
  },
  {
   "cell_type": "markdown",
   "id": "4fb78385",
   "metadata": {},
   "source": [
    "### 统计LA和zinc中有多少超过50长度的smiles"
   ]
  },
  {
   "cell_type": "code",
   "execution_count": 26,
   "id": "d5b702d5",
   "metadata": {},
   "outputs": [
    {
     "name": "stdout",
     "output_type": "stream",
     "text": [
      "0.02249242757863728 0.11688311688311688\n"
     ]
    }
   ],
   "source": [
    "zinc_overL = [i for i, x in enumerate(zinc_len) if x > 50]\n",
    "LA_overL = [i for i, x in enumerate(LA_len) if x > 50]\n",
    "print(len(zinc_overL)/len(zinc_len), len(LA_overL)/len(LA_len))"
   ]
  },
  {
   "cell_type": "markdown",
   "id": "9a577824",
   "metadata": {},
   "source": [
    "### 统计字符"
   ]
  },
  {
   "cell_type": "code",
   "execution_count": 27,
   "id": "ec993e1f",
   "metadata": {},
   "outputs": [
    {
     "name": "stdout",
     "output_type": "stream",
     "text": [
      "186 CCCC[NH+]1CCCC1C(=O)Nc1ccccc1I\n",
      "202 CCCCN1CCCC1C(=O)NCc1ccccc1I\n",
      "['n', 'c', 'S', 'Cl', '+', '.', '2', '5', 's', '-', '7', ']', 'I', '[', '8', 'F', '1', '(', 'C', 'Br', 'H', 'N', 'o', '4', '#', ')', '3', 'O', '6', '=']\n"
     ]
    }
   ],
   "source": [
    "LA_list = []\n",
    "with open(config.LA_smiles_file, 'r', encoding='utf-8') as f:\n",
    "    for line in f:\n",
    "        LA_list.append(line.strip())\n",
    "\n",
    "LA_char = []\n",
    "for i, sm in enumerate(LA_list):\n",
    "    char_list = tkn.smiles_tokenizer(sm)\n",
    "    LA_char = list(set(LA_char+list(set(char_list))))\n",
    "    if 'I' in sm:\n",
    "        print(i, sm)\n",
    "\n",
    "print(LA_char)"
   ]
  },
  {
   "cell_type": "code",
   "execution_count": 25,
   "id": "69812f19",
   "metadata": {},
   "outputs": [
    {
     "name": "stdout",
     "output_type": "stream",
     "text": [
      "['2', '3', 'Cl', '1', '4', 'C', '=', '-', 'Br', '5', 'S', '#', 's', '[', 'O', 'n', 'o', ')', 'F', '(', 'c', 'N', ']', 'H', '6']\n"
     ]
    }
   ],
   "source": [
    "zinc_list = []\n",
    "with open(config.zinc_file, 'r', encoding='utf-8') as f:\n",
    "    for line in f:\n",
    "        zinc_list.append(line.strip().split(',')[0])\n",
    "        \n",
    "zinc_list = zinc_list[1:]\n",
    "\n",
    "zinc_char = []\n",
    "for sm in zinc_list:\n",
    "    char_list = tkn.smiles_tokenizer(sm.split(',')[0])\n",
    "    zinc_char = list(set(zinc_char+list(set(char_list))))\n",
    "    \n",
    "\n",
    "print(zinc_char)"
   ]
  },
  {
   "cell_type": "code",
   "execution_count": 26,
   "id": "ee695f6d",
   "metadata": {},
   "outputs": [
    {
     "name": "stdout",
     "output_type": "stream",
     "text": [
      "25 30\n"
     ]
    }
   ],
   "source": [
    "print(len(zinc_char), len(LA_char))"
   ]
  },
  {
   "cell_type": "code",
   "execution_count": 27,
   "id": "b81f6c8c",
   "metadata": {},
   "outputs": [
    {
     "name": "stdout",
     "output_type": "stream",
     "text": [
      "['2', '3', 'Cl', '1', '4', 'C', '=', '-', 'Br', '5', 'S', '#', 's', '[', 'O', 'n', 'o', ')', 'F', '(', 'c', 'N', ']', 'H', '6'] True\n",
      "['.', 'I', '7', '8', '+']\n"
     ]
    }
   ],
   "source": [
    "intersection = list(set(LA_char) & set(zinc_char))\n",
    "difference = list(set(LA_char).difference(set(zinc_char)))\n",
    "print(intersection, intersection==zinc_char)\n",
    "print(difference)"
   ]
  },
  {
   "cell_type": "code",
   "execution_count": null,
   "id": "607e6394",
   "metadata": {},
   "outputs": [],
   "source": []
  }
 ],
 "metadata": {
  "kernelspec": {
   "display_name": "Python 3 (ipykernel)",
   "language": "python",
   "name": "python3"
  },
  "language_info": {
   "codemirror_mode": {
    "name": "ipython",
    "version": 3
   },
   "file_extension": ".py",
   "mimetype": "text/x-python",
   "name": "python",
   "nbconvert_exporter": "python",
   "pygments_lexer": "ipython3",
   "version": "3.8.16"
  }
 },
 "nbformat": 4,
 "nbformat_minor": 5
}
