{
 "cells": [
  {
   "cell_type": "code",
   "execution_count": 1,
   "metadata": {},
   "outputs": [],
   "source": [
    "import gentrl\n",
    "import torch\n",
    "import pickle\n",
    "import pandas as pd\n",
    "import numpy as np\n",
    "from rdkit.Chem import Draw\n",
    "from moses.metrics import mol_passes_filters, QED, SA, logP\n",
    "from moses.metrics.utils import get_n_rings, get_mol\n",
    "import matplotlib.pyplot as plt\n",
    "import random\n",
    "from utilities.config import Config\n",
    "from rdkit import RDLogger\n",
    "from rdkit.Chem.Scaffolds import MurckoScaffold\n",
    "from rdkit import DataStructs, Chem\n",
    "from rdkit.Chem.Fingerprints.FingerprintMols import FingerprintMol\n",
    "\n",
    "torch.cuda.set_device(0)\n",
    "RDLogger.DisableLog('rdApp.*')"
   ]
  },
  {
   "cell_type": "code",
   "execution_count": 2,
   "metadata": {},
   "outputs": [],
   "source": [
    "enc = gentrl.RNNEncoder(latent_size=50)\n",
    "dec = gentrl.DilConvDecoder(latent_input_size=50)\n",
    "model = gentrl.GENTRL(enc, dec, 50 * [('c', 20)], [('c', 20)], beta=0.001)\n",
    "model.cuda();\n",
    "\n",
    "model.load('saved_gentrl_LA/')\n",
    "model.cuda();"
   ]
  },
  {
   "cell_type": "markdown",
   "metadata": {},
   "source": [
    "## Using the molecular skeleton to determine whether AL_37 is reproducible\n",
    "\n",
    "Experimental results show that molecules with the same skeleton as AL_37 were generated when about 12.5w, 2.7w, 5w, 2.5w, and 10w molecules were generated in 5 experiments."
   ]
  },
  {
   "cell_type": "code",
   "execution_count": 3,
   "metadata": {},
   "outputs": [],
   "source": [
    "def sample_from_model(model):\n",
    "    generated_num = 0\n",
    "    \n",
    "    al_37 = \"CN(C)c1cc(C)ccc1NCC(=O)OCc1cccs1\"\n",
    "    scaf_37 = MurckoScaffold.MurckoScaffoldSmilesFromSmiles(al_37)\n",
    "\n",
    "    while True:\n",
    "        sampled = model.sample(2500)\n",
    "        sampled_valid = [s for s in sampled if get_mol(s) and len(s) > 10]\n",
    "        generated_num += len(sampled_valid)\n",
    "        print(\"already generate: \"+str(generated_num)+\" molecules\")\n",
    "        scaf_list = set([MurckoScaffold.MurckoScaffoldSmilesFromSmiles(sm) for sm in sampled_valid])\n",
    "        if scaf_37 in scaf_list:\n",
    "            break\n",
    "            \n",
    "    return scaf_list, sampled_valid, generated_num\n",
    "    "
   ]
  },
  {
   "cell_type": "code",
   "execution_count": 5,
   "metadata": {
    "scrolled": true
   },
   "outputs": [
    {
     "name": "stdout",
     "output_type": "stream",
     "text": [
      "already generate: 598 molecules\n",
      "already generate: 1233 molecules\n",
      "already generate: 1879 molecules\n",
      "already generate: 2500 molecules\n",
      "already generate: 3187 molecules\n",
      "already generate: 3816 molecules\n",
      "already generate: 4487 molecules\n",
      "already generate: 5079 molecules\n",
      "already generate: 5707 molecules\n",
      "already generate: 6350 molecules\n",
      "already generate: 6968 molecules\n",
      "already generate: 7589 molecules\n",
      "already generate: 8212 molecules\n",
      "already generate: 8823 molecules\n",
      "already generate: 9452 molecules\n",
      "already generate: 10105 molecules\n",
      "already generate: 10759 molecules\n",
      "already generate: 11398 molecules\n",
      "already generate: 12031 molecules\n",
      "already generate: 12670 molecules\n",
      "already generate: 13340 molecules\n",
      "already generate: 13973 molecules\n",
      "already generate: 14599 molecules\n",
      "already generate: 15235 molecules\n",
      "already generate: 15891 molecules\n",
      "already generate: 16507 molecules\n",
      "already generate: 17144 molecules\n",
      "already generate: 17790 molecules\n",
      "already generate: 18404 molecules\n",
      "already generate: 19023 molecules\n",
      "already generate: 19652 molecules\n",
      "already generate: 20232 molecules\n",
      "already generate: 20852 molecules\n",
      "already generate: 21422 molecules\n",
      "already generate: 22058 molecules\n",
      "already generate: 22696 molecules\n",
      "already generate: 23343 molecules\n",
      "already generate: 24007 molecules\n",
      "already generate: 24647 molecules\n",
      "already generate: 25294 molecules\n",
      "already generate: 25949 molecules\n",
      "already generate: 26529 molecules\n",
      "already generate: 27162 molecules\n",
      "already generate: 27831 molecules\n",
      "already generate: 28515 molecules\n",
      "already generate: 29183 molecules\n",
      "already generate: 29855 molecules\n",
      "already generate: 30485 molecules\n",
      "already generate: 31126 molecules\n",
      "already generate: 31752 molecules\n",
      "already generate: 32344 molecules\n",
      "already generate: 32980 molecules\n",
      "already generate: 33605 molecules\n",
      "already generate: 34268 molecules\n",
      "already generate: 34859 molecules\n",
      "already generate: 35482 molecules\n",
      "already generate: 36125 molecules\n",
      "already generate: 36784 molecules\n",
      "already generate: 37406 molecules\n",
      "already generate: 38028 molecules\n",
      "already generate: 38640 molecules\n",
      "already generate: 39265 molecules\n",
      "already generate: 39901 molecules\n",
      "already generate: 40531 molecules\n",
      "already generate: 41159 molecules\n",
      "already generate: 41799 molecules\n",
      "already generate: 42441 molecules\n",
      "already generate: 43040 molecules\n",
      "already generate: 43698 molecules\n",
      "already generate: 44355 molecules\n",
      "already generate: 44963 molecules\n",
      "already generate: 45570 molecules\n",
      "already generate: 46206 molecules\n",
      "already generate: 46807 molecules\n",
      "already generate: 47436 molecules\n",
      "already generate: 48082 molecules\n",
      "already generate: 48689 molecules\n",
      "already generate: 49299 molecules\n",
      "already generate: 49986 molecules\n",
      "already generate: 50586 molecules\n",
      "already generate: 51237 molecules\n",
      "already generate: 51884 molecules\n",
      "already generate: 52512 molecules\n",
      "already generate: 53152 molecules\n",
      "already generate: 53764 molecules\n",
      "already generate: 54463 molecules\n",
      "already generate: 55094 molecules\n",
      "already generate: 55688 molecules\n",
      "already generate: 56319 molecules\n",
      "already generate: 56985 molecules\n",
      "already generate: 57585 molecules\n",
      "already generate: 58260 molecules\n",
      "already generate: 58913 molecules\n",
      "already generate: 59559 molecules\n",
      "already generate: 60215 molecules\n",
      "already generate: 60856 molecules\n",
      "already generate: 61481 molecules\n",
      "already generate: 62123 molecules\n",
      "already generate: 62744 molecules\n",
      "already generate: 63404 molecules\n",
      "already generate: 64039 molecules\n",
      "already generate: 64693 molecules\n",
      "already generate: 65322 molecules\n",
      "already generate: 65982 molecules\n",
      "already generate: 66613 molecules\n",
      "already generate: 67220 molecules\n",
      "already generate: 67872 molecules\n",
      "already generate: 68512 molecules\n",
      "already generate: 69162 molecules\n",
      "already generate: 69825 molecules\n",
      "already generate: 70408 molecules\n",
      "already generate: 71008 molecules\n",
      "already generate: 71625 molecules\n",
      "already generate: 72306 molecules\n",
      "already generate: 72924 molecules\n",
      "already generate: 73522 molecules\n",
      "already generate: 74157 molecules\n",
      "already generate: 74788 molecules\n",
      "already generate: 75397 molecules\n",
      "already generate: 76063 molecules\n",
      "already generate: 76715 molecules\n",
      "already generate: 77356 molecules\n",
      "already generate: 77981 molecules\n",
      "already generate: 78601 molecules\n",
      "already generate: 79238 molecules\n",
      "already generate: 79881 molecules\n",
      "already generate: 80529 molecules\n",
      "already generate: 81175 molecules\n",
      "already generate: 81833 molecules\n",
      "already generate: 82488 molecules\n",
      "already generate: 83087 molecules\n",
      "already generate: 83734 molecules\n",
      "already generate: 84444 molecules\n",
      "already generate: 85056 molecules\n",
      "already generate: 85684 molecules\n",
      "already generate: 86311 molecules\n",
      "already generate: 86910 molecules\n",
      "already generate: 87551 molecules\n",
      "already generate: 88172 molecules\n",
      "already generate: 88846 molecules\n",
      "already generate: 89449 molecules\n",
      "already generate: 90116 molecules\n",
      "already generate: 90747 molecules\n",
      "already generate: 91357 molecules\n",
      "already generate: 92032 molecules\n",
      "already generate: 92677 molecules\n",
      "already generate: 93321 molecules\n",
      "already generate: 93954 molecules\n",
      "already generate: 94597 molecules\n",
      "already generate: 95226 molecules\n",
      "already generate: 95844 molecules\n",
      "already generate: 96492 molecules\n",
      "already generate: 97117 molecules\n",
      "already generate: 97750 molecules\n",
      "already generate: 98411 molecules\n",
      "already generate: 99064 molecules\n",
      "already generate: 99678 molecules\n",
      "already generate: 100324 molecules\n",
      "already generate: 100950 molecules\n",
      "already generate: 101589 molecules\n",
      "already generate: 102261 molecules\n",
      "already generate: 102881 molecules\n",
      "already generate: 103483 molecules\n",
      "already generate: 104116 molecules\n",
      "already generate: 104751 molecules\n",
      "already generate: 105373 molecules\n",
      "already generate: 105988 molecules\n",
      "already generate: 106620 molecules\n",
      "already generate: 107248 molecules\n",
      "already generate: 107852 molecules\n",
      "already generate: 108467 molecules\n",
      "already generate: 109083 molecules\n",
      "already generate: 109719 molecules\n",
      "already generate: 110363 molecules\n",
      "already generate: 111016 molecules\n",
      "already generate: 111646 molecules\n",
      "already generate: 112265 molecules\n",
      "already generate: 112877 molecules\n",
      "already generate: 113526 molecules\n",
      "already generate: 114174 molecules\n",
      "already generate: 114798 molecules\n",
      "already generate: 115470 molecules\n",
      "already generate: 116049 molecules\n",
      "already generate: 116691 molecules\n",
      "already generate: 117381 molecules\n",
      "already generate: 118005 molecules\n",
      "already generate: 118646 molecules\n",
      "already generate: 119283 molecules\n",
      "already generate: 119911 molecules\n",
      "already generate: 120564 molecules\n",
      "already generate: 121182 molecules\n",
      "already generate: 121823 molecules\n",
      "already generate: 122463 molecules\n",
      "already generate: 123110 molecules\n",
      "already generate: 123782 molecules\n",
      "already generate: 124421 molecules\n",
      "already generate: 125036 molecules\n"
     ]
    }
   ],
   "source": [
    "scaf_set,sampled_valid, generated_num = sample_from_model(model)"
   ]
  },
  {
   "cell_type": "code",
   "execution_count": 6,
   "metadata": {},
   "outputs": [
    {
     "name": "stdout",
     "output_type": "stream",
     "text": [
      "COC(=O)Nc1ccc(C)c(NCC(=O)OCc2cccs2)c1\n"
     ]
    }
   ],
   "source": [
    "al_37 = \"CN(C)c1cc(C)ccc1NCC(=O)OCc1cccs1\"\n",
    "scaf_37 = MurckoScaffold.MurckoScaffoldSmilesFromSmiles(al_37)\n",
    "for sm in sampled_valid:\n",
    "    if MurckoScaffold.MurckoScaffoldSmilesFromSmiles(sm) == scaf_37:\n",
    "        print(sm)"
   ]
  },
  {
   "cell_type": "code",
   "execution_count": 8,
   "metadata": {},
   "outputs": [
    {
     "data": {
      "text/plain": [
       "'O=C(CNc1ccccc1)OCc1cccs1'"
      ]
     },
     "execution_count": 8,
     "metadata": {},
     "output_type": "execute_result"
    }
   ],
   "source": [
    "scaf_37"
   ]
  },
  {
   "cell_type": "markdown",
   "metadata": {},
   "source": [
    "## Using Tanimoto coefficient similarity to determine whether AL_37 is reproducible"
   ]
  },
  {
   "cell_type": "code",
   "execution_count": 4,
   "metadata": {},
   "outputs": [],
   "source": [
    "def sample_from_model(model, threshold=0.9):\n",
    "    generated_num = 0\n",
    "    \n",
    "    al_37 = \"CN(C)c1cc(C)ccc1NCC(=O)OCc1cccs1\"\n",
    "    mol_37 = Chem.MolFromSmiles(al_37)\n",
    "    fp_37 = FingerprintMol(mol_37, minPath=1, maxPath=7, fpSize=2048,\n",
    "                               bitsPerHash=2, useHs=True, tgtDensity=0.0,\n",
    "                               minSize=128)\n",
    "\n",
    "    while True:\n",
    "        sampled = model.sample(2500)\n",
    "        sampled_valid = [s for s in sampled if get_mol(s) and len(s) > 10]\n",
    "        generated_num += len(sampled_valid)\n",
    "        print(\"already generate: \"+str(generated_num)+\" molecules\")\n",
    "        maxsim = 0\n",
    "        for sm in sampled_valid:\n",
    "            fp_cur = FingerprintMol(Chem.MolFromSmiles(sm), minPath=1, maxPath=7, fpSize=2048,\n",
    "                               bitsPerHash=2, useHs=True, tgtDensity=0.0,\n",
    "                               minSize=128)\n",
    "            sim = DataStructs.BulkTanimotoSimilarity(fp_37, [fp_cur])[0]\n",
    "            maxsim = sim if sim > maxsim else maxsim\n",
    "            if sim >= threshold:\n",
    "                print(sm)\n",
    "                break\n",
    "        print(\"current max similarity: \"+str(maxsim))\n",
    "        \n",
    "    return scaf_list, sampled_valid, generated_num\n",
    "    "
   ]
  },
  {
   "cell_type": "code",
   "execution_count": 13,
   "metadata": {
    "scrolled": true
   },
   "outputs": [
    {
     "ename": "TypeError",
     "evalue": "sample_from_model() got an unexpected keyword argument 'threshold'",
     "output_type": "error",
     "traceback": [
      "\u001b[0;31m---------------------------------------------------------------------------\u001b[0m",
      "\u001b[0;31mTypeError\u001b[0m                                 Traceback (most recent call last)",
      "\u001b[0;32m<ipython-input-13-6c37ddf44f17>\u001b[0m in \u001b[0;36m<module>\u001b[0;34m\u001b[0m\n\u001b[0;32m----> 1\u001b[0;31m \u001b[0mscaf_set\u001b[0m\u001b[0;34m,\u001b[0m\u001b[0msampled_valid\u001b[0m\u001b[0;34m,\u001b[0m \u001b[0mgenerated_num\u001b[0m \u001b[0;34m=\u001b[0m \u001b[0msample_from_model\u001b[0m\u001b[0;34m(\u001b[0m\u001b[0mmodel\u001b[0m\u001b[0;34m,\u001b[0m\u001b[0mthreshold\u001b[0m\u001b[0;34m=\u001b[0m\u001b[0;36m0.45\u001b[0m\u001b[0;34m)\u001b[0m\u001b[0;34m\u001b[0m\u001b[0;34m\u001b[0m\u001b[0m\n\u001b[0m",
      "\u001b[0;31mTypeError\u001b[0m: sample_from_model() got an unexpected keyword argument 'threshold'"
     ]
    }
   ],
   "source": [
    "scaf_set,sampled_valid, generated_num = sample_from_model(model,threshold=0.45)"
   ]
  },
  {
   "cell_type": "code",
   "execution_count": 9,
   "metadata": {},
   "outputs": [
    {
     "data": {
      "text/plain": [
       "[0.6533864541832669]"
      ]
     },
     "execution_count": 9,
     "metadata": {},
     "output_type": "execute_result"
    }
   ],
   "source": [
    "al_37 = \"CN(C)c1cc(C)ccc1NCC(=O)OCc1cccs1\"\n",
    "fp_37 = FingerprintMol(Chem.MolFromSmiles(al_37), minPath=1, maxPath=7, fpSize=2048,\n",
    "                               bitsPerHash=2, useHs=True, tgtDensity=0.0,\n",
    "                               minSize=128)\n",
    "\n",
    "sm_cur = \"O=C(CNc1ccccc1)OCc1cccs1\"\n",
    "fp_cur = FingerprintMol(Chem.MolFromSmiles(sm_cur), minPath=1, maxPath=7, fpSize=2048,\n",
    "                               bitsPerHash=2, useHs=True, tgtDensity=0.0,\n",
    "                               minSize=128)\n",
    "\n",
    "DataStructs.BulkTanimotoSimilarity(fp_37, [fp_cur])"
   ]
  },
  {
   "cell_type": "code",
   "execution_count": null,
   "metadata": {},
   "outputs": [],
   "source": []
  }
 ],
 "metadata": {
  "kernelspec": {
   "display_name": "Python 3 (ipykernel)",
   "language": "python",
   "name": "python3"
  },
  "language_info": {
   "codemirror_mode": {
    "name": "ipython",
    "version": 3
   },
   "file_extension": ".py",
   "mimetype": "text/x-python",
   "name": "python",
   "nbconvert_exporter": "python",
   "pygments_lexer": "ipython3",
   "version": "3.9.17"
  }
 },
 "nbformat": 4,
 "nbformat_minor": 4
}
