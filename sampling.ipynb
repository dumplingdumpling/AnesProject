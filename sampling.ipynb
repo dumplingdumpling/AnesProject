{
 "cells": [
  {
   "cell_type": "code",
   "execution_count": 1,
   "metadata": {},
   "outputs": [],
   "source": [
    "import gentrl\n",
    "import torch\n",
    "import pickle\n",
    "import pandas as pd\n",
    "import numpy as np\n",
    "from rdkit.Chem import Draw\n",
    "from rdkit import RDLogger\n",
    "from moses.metrics import mol_passes_filters, QED, SA, logP\n",
    "from moses.metrics.utils import get_n_rings, get_mol\n",
    "import matplotlib.pyplot as plt\n",
    "import random\n",
    "import os\n",
    "from utilities.config import Config\n",
    "\n",
    "torch.cuda.set_device(0)\n",
    "RDLogger.DisableLog('rdApp.*')\n"
   ]
  },
  {
   "cell_type": "code",
   "execution_count": 2,
   "metadata": {},
   "outputs": [],
   "source": [
    "enc = gentrl.RNNEncoder(latent_size=50)\n",
    "dec = gentrl.DilConvDecoder(latent_input_size=50)\n",
    "model = gentrl.GENTRL(enc, dec, 50 * [('c', 20)], [('c', 20)], beta=0.001)\n",
    "model.cuda();\n",
    "\n",
    "model.load('saved_gentrl_LA_after_rl/')\n",
    "model.cuda();"
   ]
  },
  {
   "cell_type": "code",
   "execution_count": 3,
   "metadata": {},
   "outputs": [],
   "source": [
    "# def get_num_rings_6(mol):\n",
    "#     r = mol.GetRingInfo()\n",
    "#     return len([x for x in r.AtomRings() if len(x) > 6])\n",
    "\n",
    "\n",
    "# def penalized_logP(mol_or_smiles, masked=False, default=-5):\n",
    "#     mol = get_mol(mol_or_smiles)\n",
    "#     if mol is None:\n",
    "#         return default\n",
    "#     reward = logP(mol) - SA(mol) - get_num_rings_6(mol)\n",
    "#     if masked and not mol_passes_filters(mol):\n",
    "#         return default\n",
    "#     return reward"
   ]
  },
  {
   "cell_type": "code",
   "execution_count": 4,
   "metadata": {},
   "outputs": [],
   "source": [
    "#  # old,2021-07-26 原版：生成size个候选分子， 改版：可以生成size个有效分子\n",
    "\n",
    "# def sample_from_model(model, fps_som, exist, size=1000, threshold = 0):\n",
    "#     generated = []\n",
    "\n",
    "#     while len(generated) < size:\n",
    "#         sampled = model.sample(size//10)\n",
    "#         valid_samples = []\n",
    "#         for s in sampled:\n",
    "#             if get_mol(s) and len(s) > 10 and s not in exist:\n",
    "#                 valid_samples.append(s)\n",
    "#                 exist.add(s)\n",
    "        \n",
    "#         generated += valid_samples\n",
    "        \n",
    "#     candi_smiles = []\n",
    "#     grades = []\n",
    "#     for s in generated:\n",
    "#         if fps_som.som_reward(s) >= threshold and s not in fps_som.smiles_set:\n",
    "# #         if fps_som.som_reward(s) >= threshold and s not in fps_som.smiles_set:\n",
    "#             grades.append(fps_som.som_reward(s))\n",
    "#             candi_smiles.append(s)\n",
    "            \n",
    "#     idxs = np.argsort(grades).tolist()\n",
    "#     idxs = idxs[::-1]\n",
    "    \n",
    "#     smiles_list = [candi_smiles[i] for i in idxs]\n",
    "#     grades_list = [grades[i] for i in idxs]\n",
    "    \n",
    "#     return smiles_list, grades_list"
   ]
  },
  {
   "cell_type": "code",
   "execution_count": 3,
   "metadata": {},
   "outputs": [],
   "source": [
    "# new, 2021-07-26 原版：生成size个候选分子， 改版：可以生成size个有效分子\n",
    "def sample_from_model(model, fps_som, exist, size=1000, threshold = 0):\n",
    "    generated = []\n",
    "    grades = []\n",
    "    \n",
    "    num = 0\n",
    "    \n",
    "    while len(generated) < size:\n",
    "        #sampled = model.sample(size//10)\n",
    "        sampled = model.sample(500)\n",
    "        if len(generated) >= num * size // 50:\n",
    "            print(\"already have: \" + str(len(generated)) + \" molecules...\")\n",
    "            num += 1\n",
    "#         sampled = model.sample(5000)\n",
    "        for s in sampled:\n",
    "            if get_mol(s) and len(s) > 10 and s not in exist and fps_som.som_reward(s) >= threshold:\n",
    "                generated.append(s)\n",
    "                grades.append(fps_som.som_reward(s))\n",
    "                exist.add(s)\n",
    "        #print(len(generated), len(grades))\n",
    "        \n",
    "            \n",
    "    idxs = np.argsort(grades).tolist()\n",
    "    idxs = idxs[::-1]\n",
    "    \n",
    "    smiles_list = [generated[i] for i in idxs]\n",
    "    grades_list = [grades[i] for i in idxs]\n",
    "    \n",
    "    return smiles_list, grades_list"
   ]
  },
  {
   "cell_type": "code",
   "execution_count": 4,
   "metadata": {},
   "outputs": [],
   "source": [
    "config = Config(smiles_format=2, topn_fp_features=5, mode='threshold', max_fp_features=2048, threshold=0.3, morgan_radius=2)\n",
    "with open(config.FpsSOM_model, 'rb') as infile:\n",
    "    fps_som = pickle.load(infile)"
   ]
  },
  {
   "cell_type": "code",
   "execution_count": 7,
   "metadata": {},
   "outputs": [],
   "source": [
    "# count = len(open('./generated_smiles/generated_smiles.csv','rU').readlines())\n",
    "# count"
   ]
  },
  {
   "cell_type": "code",
   "execution_count": 8,
   "metadata": {},
   "outputs": [],
   "source": [
    "# 2022-09-25 去重下标出现问题，修改文件格式，统一使smiles在第二列\n",
    "\n",
    "# filename = 'generated_smiles.csv'\n",
    "# preText = '210501'\n",
    "# lineList = []\n",
    "# with open('./generated_smiles/'+filename, 'r', encoding='utf-8') as f:\n",
    "#     for line in f:\n",
    "#         lineList.append(line)\n",
    "        \n",
    "# for i in range(1, count+1):\n",
    "#     pre = preText + '_' + str(i)\n",
    "#     lineList[i-1] = pre+','+lineList[i-1] \n",
    "    \n",
    "    \n",
    "# writeFileName = 'candi_smiles_2021_05_01.csv'\n",
    "# with open('./generated_smiles/'+writeFileName, 'w', encoding='utf-8') as f:\n",
    "#     for line in lineList:\n",
    "#         f.write(line)"
   ]
  },
  {
   "cell_type": "code",
   "execution_count": 5,
   "metadata": {},
   "outputs": [
    {
     "name": "stdout",
     "output_type": "stream",
     "text": [
      "['./generated_smiles/candi_smiles_2021_09_03.csv', './generated_smiles/candi_smiles_2021_08_24.csv', './generated_smiles/generated_smiles.csv', './generated_smiles/candi_smiles_2022_09_25_1.csv', './generated_smiles/candi_smiles_2021_07_27.csv']\n"
     ]
    }
   ],
   "source": [
    "exist_smiles = set()\n",
    "\n",
    "\n",
    "with open('./dataset/train_dataset.csv', 'r', encoding='utf-8') as f:\n",
    "    for line in f:\n",
    "        exist_smiles.add(line.strip().split(',')[0])\n",
    "\n",
    "path = './generated_smiles/'\n",
    "files = os.listdir(path)\n",
    "csv_files = [path+file for file in files]\n",
    "\n",
    "print(csv_files)\n",
    "\n",
    "for file in csv_files:\n",
    "    if os.path.isfile(file):\n",
    "        with open(file, 'r', encoding='utf-8') as f:\n",
    "            for line in f:\n",
    "                exist_smiles.add(line.strip().split(',')[1])\n",
    "                \n"
   ]
  },
  {
   "cell_type": "code",
   "execution_count": 6,
   "metadata": {
    "scrolled": true
   },
   "outputs": [
    {
     "name": "stdout",
     "output_type": "stream",
     "text": [
      "already have: 0 molecules...\n",
      "already have: 1009 molecules...\n",
      "already have: 2012 molecules...\n",
      "already have: 3007 molecules...\n",
      "already have: 4000 molecules...\n",
      "already have: 5002 molecules...\n",
      "already have: 6012 molecules...\n",
      "already have: 7001 molecules...\n",
      "already have: 8000 molecules...\n",
      "already have: 9003 molecules...\n",
      "already have: 10001 molecules...\n",
      "already have: 11008 molecules...\n",
      "already have: 12013 molecules...\n",
      "already have: 13006 molecules...\n",
      "already have: 14016 molecules...\n",
      "already have: 15010 molecules...\n",
      "already have: 16003 molecules...\n",
      "already have: 17000 molecules...\n",
      "already have: 18000 molecules...\n",
      "already have: 19018 molecules...\n",
      "already have: 20015 molecules...\n",
      "already have: 21013 molecules...\n",
      "already have: 22021 molecules...\n",
      "already have: 23000 molecules...\n",
      "already have: 24017 molecules...\n",
      "already have: 25020 molecules...\n",
      "already have: 26005 molecules...\n",
      "already have: 27010 molecules...\n",
      "already have: 28012 molecules...\n",
      "already have: 29001 molecules...\n",
      "already have: 30004 molecules...\n",
      "already have: 31010 molecules...\n",
      "already have: 32016 molecules...\n",
      "already have: 33003 molecules...\n",
      "already have: 34010 molecules...\n",
      "already have: 35013 molecules...\n",
      "already have: 36011 molecules...\n",
      "already have: 37009 molecules...\n",
      "already have: 38001 molecules...\n",
      "already have: 39000 molecules...\n",
      "already have: 40009 molecules...\n",
      "already have: 41011 molecules...\n",
      "already have: 42009 molecules...\n",
      "already have: 43008 molecules...\n",
      "already have: 44017 molecules...\n",
      "already have: 45005 molecules...\n",
      "already have: 46005 molecules...\n",
      "already have: 47005 molecules...\n",
      "already have: 48012 molecules...\n",
      "already have: 49002 molecules...\n"
     ]
    }
   ],
   "source": [
    "size_num = 50000\n",
    "smiles_list, grades_list = sample_from_model(model, fps_som, exist_smiles, size = size_num)"
   ]
  },
  {
   "cell_type": "code",
   "execution_count": 9,
   "metadata": {},
   "outputs": [],
   "source": [
    "topn = size_num // 2\n",
    "# topn = 50000\n",
    "topn = topn if topn < len(smiles_list) else len(smiles_list)\n",
    "\n",
    "selected_smiles_list = smiles_list[:topn]\n",
    "selected_grades_list = grades_list[:topn]\n",
    "\n",
    "with open('candidate_smiles.txt', 'w', encoding='utf-8') as f:\n",
    "    f.write(\"SMILES,SOM_REWARD\\n\")\n",
    "    for i,s in enumerate(selected_smiles_list):\n",
    "        f.write(s+','+str(selected_grades_list[i])+'\\n')"
   ]
  },
  {
   "cell_type": "code",
   "execution_count": 10,
   "metadata": {},
   "outputs": [
    {
     "name": "stdout",
     "output_type": "stream",
     "text": [
      "25001\n"
     ]
    },
    {
     "name": "stderr",
     "output_type": "stream",
     "text": [
      "/home/chenyang/anaconda3/envs/my-rdkit-env/lib/python3.7/site-packages/ipykernel_launcher.py:1: DeprecationWarning: 'U' mode is deprecated\n",
      "  \"\"\"Entry point for launching an IPython kernel.\n"
     ]
    }
   ],
   "source": [
    "count = len(open('candidate_smiles.txt','rU').readlines())\n",
    "print(count)"
   ]
  },
  {
   "cell_type": "markdown",
   "metadata": {},
   "source": [
    "### 将生成的smiles分子进行SA，pLogP打分打分等等"
   ]
  },
  {
   "cell_type": "code",
   "execution_count": 11,
   "metadata": {},
   "outputs": [],
   "source": [
    "import time\n",
    "\n",
    "now_date = time.strftime(\"%Y_%m_%d\", time.localtime())\n",
    "pre_date = time.strftime(\"%Y%m%d\", time.localtime())[2:]\n",
    "\n",
    "\n",
    "\n",
    "smiles = []\n",
    "som_reward = []\n",
    "with open(\"candidate_smiles.txt\", 'r', encoding='utf-8') as f:\n",
    "    for line in f:\n",
    "        sm, grade = line.strip().split(',')\n",
    "        smiles.append(sm)\n",
    "        som_reward.append(grade)\n",
    "\n",
    "smiles = smiles[1:]\n",
    "som_reward = som_reward[1:]\n",
    "SA_grades = [SA(get_mol(sm)) for sm in smiles]\n",
    "\n",
    "with open(\"./generated_smiles/candi_smiles_\"+now_date+\".csv\",'w',encoding='utf-8') as f:\n",
    "#     f.write(\"No,Smiles,SOM_reward,SA_grade\\n\")\n",
    "    for i, sm in enumerate(smiles):\n",
    "        line = pre_date+\"_\"+str(i+1)+','+ sm +','+ som_reward[i] +','+ str(SA_grades[i])+'\\n'\n",
    "        f.write(line)\n",
    "    "
   ]
  },
  {
   "cell_type": "code",
   "execution_count": 7,
   "metadata": {},
   "outputs": [],
   "source": [
    "import time"
   ]
  },
  {
   "cell_type": "code",
   "execution_count": 16,
   "metadata": {},
   "outputs": [],
   "source": [
    "t = time.strftime(\"%Y-%m-%d\", time.localtime())"
   ]
  },
  {
   "cell_type": "code",
   "execution_count": 15,
   "metadata": {},
   "outputs": [
    {
     "data": {
      "text/plain": [
       "'20210918'"
      ]
     },
     "execution_count": 15,
     "metadata": {},
     "output_type": "execute_result"
    }
   ],
   "source": [
    "t"
   ]
  },
  {
   "cell_type": "code",
   "execution_count": null,
   "metadata": {},
   "outputs": [],
   "source": []
  }
 ],
 "metadata": {
  "kernelspec": {
   "display_name": "Python 3",
   "language": "python",
   "name": "python3"
  },
  "language_info": {
   "codemirror_mode": {
    "name": "ipython",
    "version": 3
   },
   "file_extension": ".py",
   "mimetype": "text/x-python",
   "name": "python",
   "nbconvert_exporter": "python",
   "pygments_lexer": "ipython3",
   "version": "3.7.11"
  }
 },
 "nbformat": 4,
 "nbformat_minor": 5
}
